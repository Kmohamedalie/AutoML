{
  "nbformat": 4,
  "nbformat_minor": 0,
  "metadata": {
    "colab": {
      "provenance": [],
      "gpuType": "T4"
    },
    "kernelspec": {
      "name": "python3",
      "display_name": "Python 3"
    },
    "language_info": {
      "name": "python"
    },
    "widgets": {
      "application/vnd.jupyter.widget-state+json": {
        "a70c6f71403a4c659df1e373e84f428b": {
          "model_module": "@jupyter-widgets/controls",
          "model_name": "HBoxModel",
          "model_module_version": "1.5.0",
          "state": {
            "_dom_classes": [],
            "_model_module": "@jupyter-widgets/controls",
            "_model_module_version": "1.5.0",
            "_model_name": "HBoxModel",
            "_view_count": null,
            "_view_module": "@jupyter-widgets/controls",
            "_view_module_version": "1.5.0",
            "_view_name": "HBoxView",
            "box_style": "",
            "children": [
              "IPY_MODEL_8920cbe292d84a89a42d1ec74b9923db",
              "IPY_MODEL_8d0ce55cc8834705b462936d64570f41",
              "IPY_MODEL_a915b5da839b4c529afc0287c8ce82bd"
            ],
            "layout": "IPY_MODEL_0e8dff8be39d4195b8bc293207d5f75d"
          }
        },
        "8920cbe292d84a89a42d1ec74b9923db": {
          "model_module": "@jupyter-widgets/controls",
          "model_name": "HTMLModel",
          "model_module_version": "1.5.0",
          "state": {
            "_dom_classes": [],
            "_model_module": "@jupyter-widgets/controls",
            "_model_module_version": "1.5.0",
            "_model_name": "HTMLModel",
            "_view_count": null,
            "_view_module": "@jupyter-widgets/controls",
            "_view_module_version": "1.5.0",
            "_view_name": "HTMLView",
            "description": "",
            "description_tooltip": null,
            "layout": "IPY_MODEL_eb969cb9380441a9a98403ebe395f9a9",
            "placeholder": "​",
            "style": "IPY_MODEL_ce8df40309e542a2b2b1e47df3b45f32",
            "value": "Processing: 100%"
          }
        },
        "8d0ce55cc8834705b462936d64570f41": {
          "model_module": "@jupyter-widgets/controls",
          "model_name": "FloatProgressModel",
          "model_module_version": "1.5.0",
          "state": {
            "_dom_classes": [],
            "_model_module": "@jupyter-widgets/controls",
            "_model_module_version": "1.5.0",
            "_model_name": "FloatProgressModel",
            "_view_count": null,
            "_view_module": "@jupyter-widgets/controls",
            "_view_module_version": "1.5.0",
            "_view_name": "ProgressView",
            "bar_style": "",
            "description": "",
            "description_tooltip": null,
            "layout": "IPY_MODEL_052c1c84853d40fba23cfb24298cf528",
            "max": 65,
            "min": 0,
            "orientation": "horizontal",
            "style": "IPY_MODEL_22fee7f5699f4ff2adbcab198dc0ecdb",
            "value": 65
          }
        },
        "a915b5da839b4c529afc0287c8ce82bd": {
          "model_module": "@jupyter-widgets/controls",
          "model_name": "HTMLModel",
          "model_module_version": "1.5.0",
          "state": {
            "_dom_classes": [],
            "_model_module": "@jupyter-widgets/controls",
            "_model_module_version": "1.5.0",
            "_model_name": "HTMLModel",
            "_view_count": null,
            "_view_module": "@jupyter-widgets/controls",
            "_view_module_version": "1.5.0",
            "_view_name": "HTMLView",
            "description": "",
            "description_tooltip": null,
            "layout": "IPY_MODEL_a9833f344ef742808c4e42e4c2ab48a1",
            "placeholder": "​",
            "style": "IPY_MODEL_f405d893ff55408a84c1626c7d4bf8db",
            "value": " 65/65 [03:03&lt;00:00,  2.29s/it]"
          }
        },
        "0e8dff8be39d4195b8bc293207d5f75d": {
          "model_module": "@jupyter-widgets/base",
          "model_name": "LayoutModel",
          "model_module_version": "1.2.0",
          "state": {
            "_model_module": "@jupyter-widgets/base",
            "_model_module_version": "1.2.0",
            "_model_name": "LayoutModel",
            "_view_count": null,
            "_view_module": "@jupyter-widgets/base",
            "_view_module_version": "1.2.0",
            "_view_name": "LayoutView",
            "align_content": null,
            "align_items": null,
            "align_self": null,
            "border": null,
            "bottom": null,
            "display": null,
            "flex": null,
            "flex_flow": null,
            "grid_area": null,
            "grid_auto_columns": null,
            "grid_auto_flow": null,
            "grid_auto_rows": null,
            "grid_column": null,
            "grid_gap": null,
            "grid_row": null,
            "grid_template_areas": null,
            "grid_template_columns": null,
            "grid_template_rows": null,
            "height": null,
            "justify_content": null,
            "justify_items": null,
            "left": null,
            "margin": null,
            "max_height": null,
            "max_width": null,
            "min_height": null,
            "min_width": null,
            "object_fit": null,
            "object_position": null,
            "order": null,
            "overflow": null,
            "overflow_x": null,
            "overflow_y": null,
            "padding": null,
            "right": null,
            "top": null,
            "visibility": "hidden",
            "width": null
          }
        },
        "eb969cb9380441a9a98403ebe395f9a9": {
          "model_module": "@jupyter-widgets/base",
          "model_name": "LayoutModel",
          "model_module_version": "1.2.0",
          "state": {
            "_model_module": "@jupyter-widgets/base",
            "_model_module_version": "1.2.0",
            "_model_name": "LayoutModel",
            "_view_count": null,
            "_view_module": "@jupyter-widgets/base",
            "_view_module_version": "1.2.0",
            "_view_name": "LayoutView",
            "align_content": null,
            "align_items": null,
            "align_self": null,
            "border": null,
            "bottom": null,
            "display": null,
            "flex": null,
            "flex_flow": null,
            "grid_area": null,
            "grid_auto_columns": null,
            "grid_auto_flow": null,
            "grid_auto_rows": null,
            "grid_column": null,
            "grid_gap": null,
            "grid_row": null,
            "grid_template_areas": null,
            "grid_template_columns": null,
            "grid_template_rows": null,
            "height": null,
            "justify_content": null,
            "justify_items": null,
            "left": null,
            "margin": null,
            "max_height": null,
            "max_width": null,
            "min_height": null,
            "min_width": null,
            "object_fit": null,
            "object_position": null,
            "order": null,
            "overflow": null,
            "overflow_x": null,
            "overflow_y": null,
            "padding": null,
            "right": null,
            "top": null,
            "visibility": null,
            "width": null
          }
        },
        "ce8df40309e542a2b2b1e47df3b45f32": {
          "model_module": "@jupyter-widgets/controls",
          "model_name": "DescriptionStyleModel",
          "model_module_version": "1.5.0",
          "state": {
            "_model_module": "@jupyter-widgets/controls",
            "_model_module_version": "1.5.0",
            "_model_name": "DescriptionStyleModel",
            "_view_count": null,
            "_view_module": "@jupyter-widgets/base",
            "_view_module_version": "1.2.0",
            "_view_name": "StyleView",
            "description_width": ""
          }
        },
        "052c1c84853d40fba23cfb24298cf528": {
          "model_module": "@jupyter-widgets/base",
          "model_name": "LayoutModel",
          "model_module_version": "1.2.0",
          "state": {
            "_model_module": "@jupyter-widgets/base",
            "_model_module_version": "1.2.0",
            "_model_name": "LayoutModel",
            "_view_count": null,
            "_view_module": "@jupyter-widgets/base",
            "_view_module_version": "1.2.0",
            "_view_name": "LayoutView",
            "align_content": null,
            "align_items": null,
            "align_self": null,
            "border": null,
            "bottom": null,
            "display": null,
            "flex": null,
            "flex_flow": null,
            "grid_area": null,
            "grid_auto_columns": null,
            "grid_auto_flow": null,
            "grid_auto_rows": null,
            "grid_column": null,
            "grid_gap": null,
            "grid_row": null,
            "grid_template_areas": null,
            "grid_template_columns": null,
            "grid_template_rows": null,
            "height": null,
            "justify_content": null,
            "justify_items": null,
            "left": null,
            "margin": null,
            "max_height": null,
            "max_width": null,
            "min_height": null,
            "min_width": null,
            "object_fit": null,
            "object_position": null,
            "order": null,
            "overflow": null,
            "overflow_x": null,
            "overflow_y": null,
            "padding": null,
            "right": null,
            "top": null,
            "visibility": null,
            "width": null
          }
        },
        "22fee7f5699f4ff2adbcab198dc0ecdb": {
          "model_module": "@jupyter-widgets/controls",
          "model_name": "ProgressStyleModel",
          "model_module_version": "1.5.0",
          "state": {
            "_model_module": "@jupyter-widgets/controls",
            "_model_module_version": "1.5.0",
            "_model_name": "ProgressStyleModel",
            "_view_count": null,
            "_view_module": "@jupyter-widgets/base",
            "_view_module_version": "1.2.0",
            "_view_name": "StyleView",
            "bar_color": null,
            "description_width": ""
          }
        },
        "a9833f344ef742808c4e42e4c2ab48a1": {
          "model_module": "@jupyter-widgets/base",
          "model_name": "LayoutModel",
          "model_module_version": "1.2.0",
          "state": {
            "_model_module": "@jupyter-widgets/base",
            "_model_module_version": "1.2.0",
            "_model_name": "LayoutModel",
            "_view_count": null,
            "_view_module": "@jupyter-widgets/base",
            "_view_module_version": "1.2.0",
            "_view_name": "LayoutView",
            "align_content": null,
            "align_items": null,
            "align_self": null,
            "border": null,
            "bottom": null,
            "display": null,
            "flex": null,
            "flex_flow": null,
            "grid_area": null,
            "grid_auto_columns": null,
            "grid_auto_flow": null,
            "grid_auto_rows": null,
            "grid_column": null,
            "grid_gap": null,
            "grid_row": null,
            "grid_template_areas": null,
            "grid_template_columns": null,
            "grid_template_rows": null,
            "height": null,
            "justify_content": null,
            "justify_items": null,
            "left": null,
            "margin": null,
            "max_height": null,
            "max_width": null,
            "min_height": null,
            "min_width": null,
            "object_fit": null,
            "object_position": null,
            "order": null,
            "overflow": null,
            "overflow_x": null,
            "overflow_y": null,
            "padding": null,
            "right": null,
            "top": null,
            "visibility": null,
            "width": null
          }
        },
        "f405d893ff55408a84c1626c7d4bf8db": {
          "model_module": "@jupyter-widgets/controls",
          "model_name": "DescriptionStyleModel",
          "model_module_version": "1.5.0",
          "state": {
            "_model_module": "@jupyter-widgets/controls",
            "_model_module_version": "1.5.0",
            "_model_name": "DescriptionStyleModel",
            "_view_count": null,
            "_view_module": "@jupyter-widgets/base",
            "_view_module_version": "1.2.0",
            "_view_name": "StyleView",
            "description_width": ""
          }
        },
        "5f0e982f5cba4a6eb34568587cf57931": {
          "model_module": "@jupyter-widgets/controls",
          "model_name": "HBoxModel",
          "model_module_version": "1.5.0",
          "state": {
            "_dom_classes": [],
            "_model_module": "@jupyter-widgets/controls",
            "_model_module_version": "1.5.0",
            "_model_name": "HBoxModel",
            "_view_count": null,
            "_view_module": "@jupyter-widgets/controls",
            "_view_module_version": "1.5.0",
            "_view_name": "HBoxView",
            "box_style": "",
            "children": [
              "IPY_MODEL_6cfd4b18537942bc8aa26393c0b8b341",
              "IPY_MODEL_0972c51c343b45c5a6d4d0c2740d6ed6",
              "IPY_MODEL_cd218ef61d834449aa3786ba01742536"
            ],
            "layout": "IPY_MODEL_ebce598f91024cbcb208f9516e97fe87"
          }
        },
        "6cfd4b18537942bc8aa26393c0b8b341": {
          "model_module": "@jupyter-widgets/controls",
          "model_name": "HTMLModel",
          "model_module_version": "1.5.0",
          "state": {
            "_dom_classes": [],
            "_model_module": "@jupyter-widgets/controls",
            "_model_module_version": "1.5.0",
            "_model_name": "HTMLModel",
            "_view_count": null,
            "_view_module": "@jupyter-widgets/controls",
            "_view_module_version": "1.5.0",
            "_view_name": "HTMLView",
            "description": "",
            "description_tooltip": null,
            "layout": "IPY_MODEL_2089e6c25cbc4468823430e47beb28fa",
            "placeholder": "​",
            "style": "IPY_MODEL_04d1930d32464d2baf599beba561f880",
            "value": "Processing: 100%"
          }
        },
        "0972c51c343b45c5a6d4d0c2740d6ed6": {
          "model_module": "@jupyter-widgets/controls",
          "model_name": "FloatProgressModel",
          "model_module_version": "1.5.0",
          "state": {
            "_dom_classes": [],
            "_model_module": "@jupyter-widgets/controls",
            "_model_module_version": "1.5.0",
            "_model_name": "FloatProgressModel",
            "_view_count": null,
            "_view_module": "@jupyter-widgets/controls",
            "_view_module_version": "1.5.0",
            "_view_name": "ProgressView",
            "bar_style": "",
            "description": "",
            "description_tooltip": null,
            "layout": "IPY_MODEL_06fd6c20092a41bf8837590e967b2d0b",
            "max": 4,
            "min": 0,
            "orientation": "horizontal",
            "style": "IPY_MODEL_935c00f3aad84c89897ccb172bfed3f2",
            "value": 4
          }
        },
        "cd218ef61d834449aa3786ba01742536": {
          "model_module": "@jupyter-widgets/controls",
          "model_name": "HTMLModel",
          "model_module_version": "1.5.0",
          "state": {
            "_dom_classes": [],
            "_model_module": "@jupyter-widgets/controls",
            "_model_module_version": "1.5.0",
            "_model_name": "HTMLModel",
            "_view_count": null,
            "_view_module": "@jupyter-widgets/controls",
            "_view_module_version": "1.5.0",
            "_view_name": "HTMLView",
            "description": "",
            "description_tooltip": null,
            "layout": "IPY_MODEL_506e5f6e6abd436db1c0a6e1a8ed358a",
            "placeholder": "​",
            "style": "IPY_MODEL_db7b77481609488e8011e0a9a1672c56",
            "value": " 4/4 [00:57&lt;00:00, 13.69s/it]"
          }
        },
        "ebce598f91024cbcb208f9516e97fe87": {
          "model_module": "@jupyter-widgets/base",
          "model_name": "LayoutModel",
          "model_module_version": "1.2.0",
          "state": {
            "_model_module": "@jupyter-widgets/base",
            "_model_module_version": "1.2.0",
            "_model_name": "LayoutModel",
            "_view_count": null,
            "_view_module": "@jupyter-widgets/base",
            "_view_module_version": "1.2.0",
            "_view_name": "LayoutView",
            "align_content": null,
            "align_items": null,
            "align_self": null,
            "border": null,
            "bottom": null,
            "display": null,
            "flex": null,
            "flex_flow": null,
            "grid_area": null,
            "grid_auto_columns": null,
            "grid_auto_flow": null,
            "grid_auto_rows": null,
            "grid_column": null,
            "grid_gap": null,
            "grid_row": null,
            "grid_template_areas": null,
            "grid_template_columns": null,
            "grid_template_rows": null,
            "height": null,
            "justify_content": null,
            "justify_items": null,
            "left": null,
            "margin": null,
            "max_height": null,
            "max_width": null,
            "min_height": null,
            "min_width": null,
            "object_fit": null,
            "object_position": null,
            "order": null,
            "overflow": null,
            "overflow_x": null,
            "overflow_y": null,
            "padding": null,
            "right": null,
            "top": null,
            "visibility": "hidden",
            "width": null
          }
        },
        "2089e6c25cbc4468823430e47beb28fa": {
          "model_module": "@jupyter-widgets/base",
          "model_name": "LayoutModel",
          "model_module_version": "1.2.0",
          "state": {
            "_model_module": "@jupyter-widgets/base",
            "_model_module_version": "1.2.0",
            "_model_name": "LayoutModel",
            "_view_count": null,
            "_view_module": "@jupyter-widgets/base",
            "_view_module_version": "1.2.0",
            "_view_name": "LayoutView",
            "align_content": null,
            "align_items": null,
            "align_self": null,
            "border": null,
            "bottom": null,
            "display": null,
            "flex": null,
            "flex_flow": null,
            "grid_area": null,
            "grid_auto_columns": null,
            "grid_auto_flow": null,
            "grid_auto_rows": null,
            "grid_column": null,
            "grid_gap": null,
            "grid_row": null,
            "grid_template_areas": null,
            "grid_template_columns": null,
            "grid_template_rows": null,
            "height": null,
            "justify_content": null,
            "justify_items": null,
            "left": null,
            "margin": null,
            "max_height": null,
            "max_width": null,
            "min_height": null,
            "min_width": null,
            "object_fit": null,
            "object_position": null,
            "order": null,
            "overflow": null,
            "overflow_x": null,
            "overflow_y": null,
            "padding": null,
            "right": null,
            "top": null,
            "visibility": null,
            "width": null
          }
        },
        "04d1930d32464d2baf599beba561f880": {
          "model_module": "@jupyter-widgets/controls",
          "model_name": "DescriptionStyleModel",
          "model_module_version": "1.5.0",
          "state": {
            "_model_module": "@jupyter-widgets/controls",
            "_model_module_version": "1.5.0",
            "_model_name": "DescriptionStyleModel",
            "_view_count": null,
            "_view_module": "@jupyter-widgets/base",
            "_view_module_version": "1.2.0",
            "_view_name": "StyleView",
            "description_width": ""
          }
        },
        "06fd6c20092a41bf8837590e967b2d0b": {
          "model_module": "@jupyter-widgets/base",
          "model_name": "LayoutModel",
          "model_module_version": "1.2.0",
          "state": {
            "_model_module": "@jupyter-widgets/base",
            "_model_module_version": "1.2.0",
            "_model_name": "LayoutModel",
            "_view_count": null,
            "_view_module": "@jupyter-widgets/base",
            "_view_module_version": "1.2.0",
            "_view_name": "LayoutView",
            "align_content": null,
            "align_items": null,
            "align_self": null,
            "border": null,
            "bottom": null,
            "display": null,
            "flex": null,
            "flex_flow": null,
            "grid_area": null,
            "grid_auto_columns": null,
            "grid_auto_flow": null,
            "grid_auto_rows": null,
            "grid_column": null,
            "grid_gap": null,
            "grid_row": null,
            "grid_template_areas": null,
            "grid_template_columns": null,
            "grid_template_rows": null,
            "height": null,
            "justify_content": null,
            "justify_items": null,
            "left": null,
            "margin": null,
            "max_height": null,
            "max_width": null,
            "min_height": null,
            "min_width": null,
            "object_fit": null,
            "object_position": null,
            "order": null,
            "overflow": null,
            "overflow_x": null,
            "overflow_y": null,
            "padding": null,
            "right": null,
            "top": null,
            "visibility": null,
            "width": null
          }
        },
        "935c00f3aad84c89897ccb172bfed3f2": {
          "model_module": "@jupyter-widgets/controls",
          "model_name": "ProgressStyleModel",
          "model_module_version": "1.5.0",
          "state": {
            "_model_module": "@jupyter-widgets/controls",
            "_model_module_version": "1.5.0",
            "_model_name": "ProgressStyleModel",
            "_view_count": null,
            "_view_module": "@jupyter-widgets/base",
            "_view_module_version": "1.2.0",
            "_view_name": "StyleView",
            "bar_color": null,
            "description_width": ""
          }
        },
        "506e5f6e6abd436db1c0a6e1a8ed358a": {
          "model_module": "@jupyter-widgets/base",
          "model_name": "LayoutModel",
          "model_module_version": "1.2.0",
          "state": {
            "_model_module": "@jupyter-widgets/base",
            "_model_module_version": "1.2.0",
            "_model_name": "LayoutModel",
            "_view_count": null,
            "_view_module": "@jupyter-widgets/base",
            "_view_module_version": "1.2.0",
            "_view_name": "LayoutView",
            "align_content": null,
            "align_items": null,
            "align_self": null,
            "border": null,
            "bottom": null,
            "display": null,
            "flex": null,
            "flex_flow": null,
            "grid_area": null,
            "grid_auto_columns": null,
            "grid_auto_flow": null,
            "grid_auto_rows": null,
            "grid_column": null,
            "grid_gap": null,
            "grid_row": null,
            "grid_template_areas": null,
            "grid_template_columns": null,
            "grid_template_rows": null,
            "height": null,
            "justify_content": null,
            "justify_items": null,
            "left": null,
            "margin": null,
            "max_height": null,
            "max_width": null,
            "min_height": null,
            "min_width": null,
            "object_fit": null,
            "object_position": null,
            "order": null,
            "overflow": null,
            "overflow_x": null,
            "overflow_y": null,
            "padding": null,
            "right": null,
            "top": null,
            "visibility": null,
            "width": null
          }
        },
        "db7b77481609488e8011e0a9a1672c56": {
          "model_module": "@jupyter-widgets/controls",
          "model_name": "DescriptionStyleModel",
          "model_module_version": "1.5.0",
          "state": {
            "_model_module": "@jupyter-widgets/controls",
            "_model_module_version": "1.5.0",
            "_model_name": "DescriptionStyleModel",
            "_view_count": null,
            "_view_module": "@jupyter-widgets/base",
            "_view_module_version": "1.2.0",
            "_view_name": "StyleView",
            "description_width": ""
          }
        }
      }
    },
    "accelerator": "GPU"
  },
  "cells": [
    {
      "cell_type": "markdown",
      "source": [
        "# **AutoML with PyCaret-classification**\n",
        "\n",
        "[PyCaret](https://pycaret.org/): opern-source low-code machine learning library in Python that automates machine learning workflows.\n",
        "Extra reading: [medium](https://alam-jane61.medium.com/classification-problem-with-pycaret-a0eb43a2f1ca)"
      ],
      "metadata": {
        "id": "DzmCL9zJBsuD"
      }
    },
    {
      "cell_type": "markdown",
      "source": [
        "![image.png](data:image/png;base64,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)"
      ],
      "metadata": {
        "id": "gzoMieoCCpkf"
      }
    },
    {
      "cell_type": "markdown",
      "source": [
        "**Image source:** [medium](https://alam-jane61.medium.com/classification-problem-with-pycaret-a0eb43a2f1ca)"
      ],
      "metadata": {
        "id": "FxhnSPwSCqsr"
      }
    },
    {
      "cell_type": "markdown",
      "source": [
        "[Dataset](): in-built dataset(Credit default) by PyCaret.\n",
        "\n",
        "Task: [Classification](https://en.wikipedia.org/wiki/Regression_analysis), credit default."
      ],
      "metadata": {
        "id": "ncTpmuiaC9Eu"
      }
    },
    {
      "cell_type": "markdown",
      "source": [
        "**Import libraries:**"
      ],
      "metadata": {
        "id": "OCRUACyaFN1C"
      }
    },
    {
      "cell_type": "code",
      "source": [
        "#!pip uninstall scipy\n",
        "#!pip install scipy"
      ],
      "metadata": {
        "id": "EzuwJp8zmjqv"
      },
      "execution_count": 37,
      "outputs": []
    },
    {
      "cell_type": "code",
      "source": [
        "#!pip install pycaret\n",
        "#!pip install -r requirements.txt\n",
        "#!pip install -r requirements-optional.txt"
      ],
      "metadata": {
        "id": "YaeUERufNP8C"
      },
      "execution_count": null,
      "outputs": []
    },
    {
      "cell_type": "code",
      "source": [
        "import pandas as pd\n",
        "import matplotlib.pyplot as plt\n",
        "import seaborn as sns"
      ],
      "metadata": {
        "id": "w2hwpGbdFZVy"
      },
      "execution_count": 7,
      "outputs": []
    },
    {
      "cell_type": "markdown",
      "source": [
        "**Import the dataset:**"
      ],
      "metadata": {
        "id": "UbJh5MFgGEDM"
      }
    },
    {
      "cell_type": "code",
      "source": [
        "# get the dataset\n",
        "from pycaret.datasets import get_data"
      ],
      "metadata": {
        "id": "gNRxi57NGHKH"
      },
      "execution_count": 8,
      "outputs": []
    },
    {
      "cell_type": "markdown",
      "source": [
        "**Basic EDA and sanity check:**"
      ],
      "metadata": {
        "id": "aNtqY3pBGUt1"
      }
    },
    {
      "cell_type": "code",
      "source": [
        "# head (first 5 rows of the dataset)\n",
        "df = get_data('credit')"
      ],
      "metadata": {
        "colab": {
          "base_uri": "https://localhost:8080/",
          "height": 256
        },
        "id": "umbFQmAvGOkF",
        "outputId": "e69e252e-227d-43c1-bb02-44ed73f62ba9"
      },
      "execution_count": 9,
      "outputs": [
        {
          "output_type": "display_data",
          "data": {
            "text/plain": [
              "   LIMIT_BAL  SEX  EDUCATION  MARRIAGE  AGE  PAY_1  PAY_2  PAY_3  PAY_4  \\\n",
              "0      20000    2          2         1   24      2      2     -1     -1   \n",
              "1      90000    2          2         2   34      0      0      0      0   \n",
              "2      50000    2          2         1   37      0      0      0      0   \n",
              "3      50000    1          2         1   57     -1      0     -1      0   \n",
              "4      50000    1          1         2   37      0      0      0      0   \n",
              "\n",
              "   PAY_5  ...  BILL_AMT4  BILL_AMT5  BILL_AMT6  PAY_AMT1  PAY_AMT2  PAY_AMT3  \\\n",
              "0     -2  ...        0.0        0.0        0.0       0.0     689.0       0.0   \n",
              "1      0  ...    14331.0    14948.0    15549.0    1518.0    1500.0    1000.0   \n",
              "2      0  ...    28314.0    28959.0    29547.0    2000.0    2019.0    1200.0   \n",
              "3      0  ...    20940.0    19146.0    19131.0    2000.0   36681.0   10000.0   \n",
              "4      0  ...    19394.0    19619.0    20024.0    2500.0    1815.0     657.0   \n",
              "\n",
              "   PAY_AMT4  PAY_AMT5  PAY_AMT6  default  \n",
              "0       0.0       0.0       0.0        1  \n",
              "1    1000.0    1000.0    5000.0        0  \n",
              "2    1100.0    1069.0    1000.0        0  \n",
              "3    9000.0     689.0     679.0        0  \n",
              "4    1000.0    1000.0     800.0        0  \n",
              "\n",
              "[5 rows x 24 columns]"
            ],
            "text/html": [
              "\n",
              "  <div id=\"df-81569158-46cd-4a73-80ad-330ded9824fa\" class=\"colab-df-container\">\n",
              "    <div>\n",
              "<style scoped>\n",
              "    .dataframe tbody tr th:only-of-type {\n",
              "        vertical-align: middle;\n",
              "    }\n",
              "\n",
              "    .dataframe tbody tr th {\n",
              "        vertical-align: top;\n",
              "    }\n",
              "\n",
              "    .dataframe thead th {\n",
              "        text-align: right;\n",
              "    }\n",
              "</style>\n",
              "<table border=\"1\" class=\"dataframe\">\n",
              "  <thead>\n",
              "    <tr style=\"text-align: right;\">\n",
              "      <th></th>\n",
              "      <th>LIMIT_BAL</th>\n",
              "      <th>SEX</th>\n",
              "      <th>EDUCATION</th>\n",
              "      <th>MARRIAGE</th>\n",
              "      <th>AGE</th>\n",
              "      <th>PAY_1</th>\n",
              "      <th>PAY_2</th>\n",
              "      <th>PAY_3</th>\n",
              "      <th>PAY_4</th>\n",
              "      <th>PAY_5</th>\n",
              "      <th>...</th>\n",
              "      <th>BILL_AMT4</th>\n",
              "      <th>BILL_AMT5</th>\n",
              "      <th>BILL_AMT6</th>\n",
              "      <th>PAY_AMT1</th>\n",
              "      <th>PAY_AMT2</th>\n",
              "      <th>PAY_AMT3</th>\n",
              "      <th>PAY_AMT4</th>\n",
              "      <th>PAY_AMT5</th>\n",
              "      <th>PAY_AMT6</th>\n",
              "      <th>default</th>\n",
              "    </tr>\n",
              "  </thead>\n",
              "  <tbody>\n",
              "    <tr>\n",
              "      <th>0</th>\n",
              "      <td>20000</td>\n",
              "      <td>2</td>\n",
              "      <td>2</td>\n",
              "      <td>1</td>\n",
              "      <td>24</td>\n",
              "      <td>2</td>\n",
              "      <td>2</td>\n",
              "      <td>-1</td>\n",
              "      <td>-1</td>\n",
              "      <td>-2</td>\n",
              "      <td>...</td>\n",
              "      <td>0.0</td>\n",
              "      <td>0.0</td>\n",
              "      <td>0.0</td>\n",
              "      <td>0.0</td>\n",
              "      <td>689.0</td>\n",
              "      <td>0.0</td>\n",
              "      <td>0.0</td>\n",
              "      <td>0.0</td>\n",
              "      <td>0.0</td>\n",
              "      <td>1</td>\n",
              "    </tr>\n",
              "    <tr>\n",
              "      <th>1</th>\n",
              "      <td>90000</td>\n",
              "      <td>2</td>\n",
              "      <td>2</td>\n",
              "      <td>2</td>\n",
              "      <td>34</td>\n",
              "      <td>0</td>\n",
              "      <td>0</td>\n",
              "      <td>0</td>\n",
              "      <td>0</td>\n",
              "      <td>0</td>\n",
              "      <td>...</td>\n",
              "      <td>14331.0</td>\n",
              "      <td>14948.0</td>\n",
              "      <td>15549.0</td>\n",
              "      <td>1518.0</td>\n",
              "      <td>1500.0</td>\n",
              "      <td>1000.0</td>\n",
              "      <td>1000.0</td>\n",
              "      <td>1000.0</td>\n",
              "      <td>5000.0</td>\n",
              "      <td>0</td>\n",
              "    </tr>\n",
              "    <tr>\n",
              "      <th>2</th>\n",
              "      <td>50000</td>\n",
              "      <td>2</td>\n",
              "      <td>2</td>\n",
              "      <td>1</td>\n",
              "      <td>37</td>\n",
              "      <td>0</td>\n",
              "      <td>0</td>\n",
              "      <td>0</td>\n",
              "      <td>0</td>\n",
              "      <td>0</td>\n",
              "      <td>...</td>\n",
              "      <td>28314.0</td>\n",
              "      <td>28959.0</td>\n",
              "      <td>29547.0</td>\n",
              "      <td>2000.0</td>\n",
              "      <td>2019.0</td>\n",
              "      <td>1200.0</td>\n",
              "      <td>1100.0</td>\n",
              "      <td>1069.0</td>\n",
              "      <td>1000.0</td>\n",
              "      <td>0</td>\n",
              "    </tr>\n",
              "    <tr>\n",
              "      <th>3</th>\n",
              "      <td>50000</td>\n",
              "      <td>1</td>\n",
              "      <td>2</td>\n",
              "      <td>1</td>\n",
              "      <td>57</td>\n",
              "      <td>-1</td>\n",
              "      <td>0</td>\n",
              "      <td>-1</td>\n",
              "      <td>0</td>\n",
              "      <td>0</td>\n",
              "      <td>...</td>\n",
              "      <td>20940.0</td>\n",
              "      <td>19146.0</td>\n",
              "      <td>19131.0</td>\n",
              "      <td>2000.0</td>\n",
              "      <td>36681.0</td>\n",
              "      <td>10000.0</td>\n",
              "      <td>9000.0</td>\n",
              "      <td>689.0</td>\n",
              "      <td>679.0</td>\n",
              "      <td>0</td>\n",
              "    </tr>\n",
              "    <tr>\n",
              "      <th>4</th>\n",
              "      <td>50000</td>\n",
              "      <td>1</td>\n",
              "      <td>1</td>\n",
              "      <td>2</td>\n",
              "      <td>37</td>\n",
              "      <td>0</td>\n",
              "      <td>0</td>\n",
              "      <td>0</td>\n",
              "      <td>0</td>\n",
              "      <td>0</td>\n",
              "      <td>...</td>\n",
              "      <td>19394.0</td>\n",
              "      <td>19619.0</td>\n",
              "      <td>20024.0</td>\n",
              "      <td>2500.0</td>\n",
              "      <td>1815.0</td>\n",
              "      <td>657.0</td>\n",
              "      <td>1000.0</td>\n",
              "      <td>1000.0</td>\n",
              "      <td>800.0</td>\n",
              "      <td>0</td>\n",
              "    </tr>\n",
              "  </tbody>\n",
              "</table>\n",
              "<p>5 rows × 24 columns</p>\n",
              "</div>\n",
              "    <div class=\"colab-df-buttons\">\n",
              "\n",
              "  <div class=\"colab-df-container\">\n",
              "    <button class=\"colab-df-convert\" onclick=\"convertToInteractive('df-81569158-46cd-4a73-80ad-330ded9824fa')\"\n",
              "            title=\"Convert this dataframe to an interactive table.\"\n",
              "            style=\"display:none;\">\n",
              "\n",
              "  <svg xmlns=\"http://www.w3.org/2000/svg\" height=\"24px\" viewBox=\"0 -960 960 960\">\n",
              "    <path d=\"M120-120v-720h720v720H120Zm60-500h600v-160H180v160Zm220 220h160v-160H400v160Zm0 220h160v-160H400v160ZM180-400h160v-160H180v160Zm440 0h160v-160H620v160ZM180-180h160v-160H180v160Zm440 0h160v-160H620v160Z\"/>\n",
              "  </svg>\n",
              "    </button>\n",
              "\n",
              "  <style>\n",
              "    .colab-df-container {\n",
              "      display:flex;\n",
              "      gap: 12px;\n",
              "    }\n",
              "\n",
              "    .colab-df-convert {\n",
              "      background-color: #E8F0FE;\n",
              "      border: none;\n",
              "      border-radius: 50%;\n",
              "      cursor: pointer;\n",
              "      display: none;\n",
              "      fill: #1967D2;\n",
              "      height: 32px;\n",
              "      padding: 0 0 0 0;\n",
              "      width: 32px;\n",
              "    }\n",
              "\n",
              "    .colab-df-convert:hover {\n",
              "      background-color: #E2EBFA;\n",
              "      box-shadow: 0px 1px 2px rgba(60, 64, 67, 0.3), 0px 1px 3px 1px rgba(60, 64, 67, 0.15);\n",
              "      fill: #174EA6;\n",
              "    }\n",
              "\n",
              "    .colab-df-buttons div {\n",
              "      margin-bottom: 4px;\n",
              "    }\n",
              "\n",
              "    [theme=dark] .colab-df-convert {\n",
              "      background-color: #3B4455;\n",
              "      fill: #D2E3FC;\n",
              "    }\n",
              "\n",
              "    [theme=dark] .colab-df-convert:hover {\n",
              "      background-color: #434B5C;\n",
              "      box-shadow: 0px 1px 3px 1px rgba(0, 0, 0, 0.15);\n",
              "      filter: drop-shadow(0px 1px 2px rgba(0, 0, 0, 0.3));\n",
              "      fill: #FFFFFF;\n",
              "    }\n",
              "  </style>\n",
              "\n",
              "    <script>\n",
              "      const buttonEl =\n",
              "        document.querySelector('#df-81569158-46cd-4a73-80ad-330ded9824fa button.colab-df-convert');\n",
              "      buttonEl.style.display =\n",
              "        google.colab.kernel.accessAllowed ? 'block' : 'none';\n",
              "\n",
              "      async function convertToInteractive(key) {\n",
              "        const element = document.querySelector('#df-81569158-46cd-4a73-80ad-330ded9824fa');\n",
              "        const dataTable =\n",
              "          await google.colab.kernel.invokeFunction('convertToInteractive',\n",
              "                                                    [key], {});\n",
              "        if (!dataTable) return;\n",
              "\n",
              "        const docLinkHtml = 'Like what you see? Visit the ' +\n",
              "          '<a target=\"_blank\" href=https://colab.research.google.com/notebooks/data_table.ipynb>data table notebook</a>'\n",
              "          + ' to learn more about interactive tables.';\n",
              "        element.innerHTML = '';\n",
              "        dataTable['output_type'] = 'display_data';\n",
              "        await google.colab.output.renderOutput(dataTable, element);\n",
              "        const docLink = document.createElement('div');\n",
              "        docLink.innerHTML = docLinkHtml;\n",
              "        element.appendChild(docLink);\n",
              "      }\n",
              "    </script>\n",
              "  </div>\n",
              "\n",
              "\n",
              "<div id=\"df-c1224ec1-cb41-4641-9427-5b4ab22fd3fb\">\n",
              "  <button class=\"colab-df-quickchart\" onclick=\"quickchart('df-c1224ec1-cb41-4641-9427-5b4ab22fd3fb')\"\n",
              "            title=\"Suggest charts\"\n",
              "            style=\"display:none;\">\n",
              "\n",
              "<svg xmlns=\"http://www.w3.org/2000/svg\" height=\"24px\"viewBox=\"0 0 24 24\"\n",
              "     width=\"24px\">\n",
              "    <g>\n",
              "        <path d=\"M19 3H5c-1.1 0-2 .9-2 2v14c0 1.1.9 2 2 2h14c1.1 0 2-.9 2-2V5c0-1.1-.9-2-2-2zM9 17H7v-7h2v7zm4 0h-2V7h2v10zm4 0h-2v-4h2v4z\"/>\n",
              "    </g>\n",
              "</svg>\n",
              "  </button>\n",
              "\n",
              "<style>\n",
              "  .colab-df-quickchart {\n",
              "      --bg-color: #E8F0FE;\n",
              "      --fill-color: #1967D2;\n",
              "      --hover-bg-color: #E2EBFA;\n",
              "      --hover-fill-color: #174EA6;\n",
              "      --disabled-fill-color: #AAA;\n",
              "      --disabled-bg-color: #DDD;\n",
              "  }\n",
              "\n",
              "  [theme=dark] .colab-df-quickchart {\n",
              "      --bg-color: #3B4455;\n",
              "      --fill-color: #D2E3FC;\n",
              "      --hover-bg-color: #434B5C;\n",
              "      --hover-fill-color: #FFFFFF;\n",
              "      --disabled-bg-color: #3B4455;\n",
              "      --disabled-fill-color: #666;\n",
              "  }\n",
              "\n",
              "  .colab-df-quickchart {\n",
              "    background-color: var(--bg-color);\n",
              "    border: none;\n",
              "    border-radius: 50%;\n",
              "    cursor: pointer;\n",
              "    display: none;\n",
              "    fill: var(--fill-color);\n",
              "    height: 32px;\n",
              "    padding: 0;\n",
              "    width: 32px;\n",
              "  }\n",
              "\n",
              "  .colab-df-quickchart:hover {\n",
              "    background-color: var(--hover-bg-color);\n",
              "    box-shadow: 0 1px 2px rgba(60, 64, 67, 0.3), 0 1px 3px 1px rgba(60, 64, 67, 0.15);\n",
              "    fill: var(--button-hover-fill-color);\n",
              "  }\n",
              "\n",
              "  .colab-df-quickchart-complete:disabled,\n",
              "  .colab-df-quickchart-complete:disabled:hover {\n",
              "    background-color: var(--disabled-bg-color);\n",
              "    fill: var(--disabled-fill-color);\n",
              "    box-shadow: none;\n",
              "  }\n",
              "\n",
              "  .colab-df-spinner {\n",
              "    border: 2px solid var(--fill-color);\n",
              "    border-color: transparent;\n",
              "    border-bottom-color: var(--fill-color);\n",
              "    animation:\n",
              "      spin 1s steps(1) infinite;\n",
              "  }\n",
              "\n",
              "  @keyframes spin {\n",
              "    0% {\n",
              "      border-color: transparent;\n",
              "      border-bottom-color: var(--fill-color);\n",
              "      border-left-color: var(--fill-color);\n",
              "    }\n",
              "    20% {\n",
              "      border-color: transparent;\n",
              "      border-left-color: var(--fill-color);\n",
              "      border-top-color: var(--fill-color);\n",
              "    }\n",
              "    30% {\n",
              "      border-color: transparent;\n",
              "      border-left-color: var(--fill-color);\n",
              "      border-top-color: var(--fill-color);\n",
              "      border-right-color: var(--fill-color);\n",
              "    }\n",
              "    40% {\n",
              "      border-color: transparent;\n",
              "      border-right-color: var(--fill-color);\n",
              "      border-top-color: var(--fill-color);\n",
              "    }\n",
              "    60% {\n",
              "      border-color: transparent;\n",
              "      border-right-color: var(--fill-color);\n",
              "    }\n",
              "    80% {\n",
              "      border-color: transparent;\n",
              "      border-right-color: var(--fill-color);\n",
              "      border-bottom-color: var(--fill-color);\n",
              "    }\n",
              "    90% {\n",
              "      border-color: transparent;\n",
              "      border-bottom-color: var(--fill-color);\n",
              "    }\n",
              "  }\n",
              "</style>\n",
              "\n",
              "  <script>\n",
              "    async function quickchart(key) {\n",
              "      const quickchartButtonEl =\n",
              "        document.querySelector('#' + key + ' button');\n",
              "      quickchartButtonEl.disabled = true;  // To prevent multiple clicks.\n",
              "      quickchartButtonEl.classList.add('colab-df-spinner');\n",
              "      try {\n",
              "        const charts = await google.colab.kernel.invokeFunction(\n",
              "            'suggestCharts', [key], {});\n",
              "      } catch (error) {\n",
              "        console.error('Error during call to suggestCharts:', error);\n",
              "      }\n",
              "      quickchartButtonEl.classList.remove('colab-df-spinner');\n",
              "      quickchartButtonEl.classList.add('colab-df-quickchart-complete');\n",
              "    }\n",
              "    (() => {\n",
              "      let quickchartButtonEl =\n",
              "        document.querySelector('#df-c1224ec1-cb41-4641-9427-5b4ab22fd3fb button');\n",
              "      quickchartButtonEl.style.display =\n",
              "        google.colab.kernel.accessAllowed ? 'block' : 'none';\n",
              "    })();\n",
              "  </script>\n",
              "</div>\n",
              "    </div>\n",
              "  </div>\n"
            ]
          },
          "metadata": {}
        }
      ]
    },
    {
      "cell_type": "code",
      "source": [
        "# columns as list\n",
        "df.columns.tolist()"
      ],
      "metadata": {
        "colab": {
          "base_uri": "https://localhost:8080/"
        },
        "id": "z-yYJuMvGgUr",
        "outputId": "11ff05e2-7380-4861-ecdd-f70d1663d182"
      },
      "execution_count": 10,
      "outputs": [
        {
          "output_type": "execute_result",
          "data": {
            "text/plain": [
              "['LIMIT_BAL',\n",
              " 'SEX',\n",
              " 'EDUCATION',\n",
              " 'MARRIAGE',\n",
              " 'AGE',\n",
              " 'PAY_1',\n",
              " 'PAY_2',\n",
              " 'PAY_3',\n",
              " 'PAY_4',\n",
              " 'PAY_5',\n",
              " 'PAY_6',\n",
              " 'BILL_AMT1',\n",
              " 'BILL_AMT2',\n",
              " 'BILL_AMT3',\n",
              " 'BILL_AMT4',\n",
              " 'BILL_AMT5',\n",
              " 'BILL_AMT6',\n",
              " 'PAY_AMT1',\n",
              " 'PAY_AMT2',\n",
              " 'PAY_AMT3',\n",
              " 'PAY_AMT4',\n",
              " 'PAY_AMT5',\n",
              " 'PAY_AMT6',\n",
              " 'default']"
            ]
          },
          "metadata": {},
          "execution_count": 10
        }
      ]
    },
    {
      "cell_type": "code",
      "source": [
        "# shape of the dataset\n",
        "df.shape"
      ],
      "metadata": {
        "colab": {
          "base_uri": "https://localhost:8080/"
        },
        "id": "b8Yopz_DGi-L",
        "outputId": "73d1286b-f2bd-4995-faaa-8556a8e244cc"
      },
      "execution_count": 11,
      "outputs": [
        {
          "output_type": "execute_result",
          "data": {
            "text/plain": [
              "(24000, 24)"
            ]
          },
          "metadata": {},
          "execution_count": 11
        }
      ]
    },
    {
      "cell_type": "code",
      "source": [
        "# check datatypes\n",
        "df.dtypes"
      ],
      "metadata": {
        "colab": {
          "base_uri": "https://localhost:8080/"
        },
        "id": "ASLbrFYTKz1N",
        "outputId": "18f05ab5-cfc2-44e9-c785-58136b790b17"
      },
      "execution_count": 12,
      "outputs": [
        {
          "output_type": "execute_result",
          "data": {
            "text/plain": [
              "LIMIT_BAL      int64\n",
              "SEX            int64\n",
              "EDUCATION      int64\n",
              "MARRIAGE       int64\n",
              "AGE            int64\n",
              "PAY_1          int64\n",
              "PAY_2          int64\n",
              "PAY_3          int64\n",
              "PAY_4          int64\n",
              "PAY_5          int64\n",
              "PAY_6          int64\n",
              "BILL_AMT1    float64\n",
              "BILL_AMT2    float64\n",
              "BILL_AMT3    float64\n",
              "BILL_AMT4    float64\n",
              "BILL_AMT5    float64\n",
              "BILL_AMT6    float64\n",
              "PAY_AMT1     float64\n",
              "PAY_AMT2     float64\n",
              "PAY_AMT3     float64\n",
              "PAY_AMT4     float64\n",
              "PAY_AMT5     float64\n",
              "PAY_AMT6     float64\n",
              "default        int64\n",
              "dtype: object"
            ]
          },
          "metadata": {},
          "execution_count": 12
        }
      ]
    },
    {
      "cell_type": "code",
      "source": [
        "# check for missing values\n",
        "df.isnull().sum()"
      ],
      "metadata": {
        "colab": {
          "base_uri": "https://localhost:8080/"
        },
        "id": "f-yajZY6GxBy",
        "outputId": "85834004-311c-4a42-dd8d-0fd74078eef3"
      },
      "execution_count": 13,
      "outputs": [
        {
          "output_type": "execute_result",
          "data": {
            "text/plain": [
              "LIMIT_BAL    0\n",
              "SEX          0\n",
              "EDUCATION    0\n",
              "MARRIAGE     0\n",
              "AGE          0\n",
              "PAY_1        0\n",
              "PAY_2        0\n",
              "PAY_3        0\n",
              "PAY_4        0\n",
              "PAY_5        0\n",
              "PAY_6        0\n",
              "BILL_AMT1    0\n",
              "BILL_AMT2    0\n",
              "BILL_AMT3    0\n",
              "BILL_AMT4    0\n",
              "BILL_AMT5    0\n",
              "BILL_AMT6    0\n",
              "PAY_AMT1     0\n",
              "PAY_AMT2     0\n",
              "PAY_AMT3     0\n",
              "PAY_AMT4     0\n",
              "PAY_AMT5     0\n",
              "PAY_AMT6     0\n",
              "default      0\n",
              "dtype: int64"
            ]
          },
          "metadata": {},
          "execution_count": 13
        }
      ]
    },
    {
      "cell_type": "markdown",
      "source": [
        "**After some sanity check and basic EDA we have get a sense of our dataset, now let's jump into the the nitty-gritty of [PyCaret](pycaret.org) for performing classification tasks**"
      ],
      "metadata": {
        "id": "mnts7-z2JWYl"
      }
    },
    {
      "cell_type": "code",
      "source": [
        "# set features\n",
        "features = df.drop('default', axis=1)\n",
        "\n",
        "# target variable\n",
        "targets = df['default']"
      ],
      "metadata": {
        "id": "zXdWjxdnP7v-"
      },
      "execution_count": 14,
      "outputs": []
    },
    {
      "cell_type": "code",
      "source": [
        "# import\n",
        "from pycaret.classification import models, setup, compare_models, create_model, tune_model, plot_model"
      ],
      "metadata": {
        "id": "9Zi9A2QkigTW"
      },
      "execution_count": 16,
      "outputs": []
    },
    {
      "cell_type": "code",
      "source": [
        "%%time\n",
        "# set our target\n",
        "exp_clf = setup(data = df, target='default')\n",
        "# evaluate criteria/metrics \"accuracy\")\n",
        "best = compare_models(sort=\"Accuracy\")"
      ],
      "metadata": {
        "colab": {
          "base_uri": "https://localhost:8080/",
          "height": 1000,
          "referenced_widgets": [
            "a70c6f71403a4c659df1e373e84f428b",
            "8920cbe292d84a89a42d1ec74b9923db",
            "8d0ce55cc8834705b462936d64570f41",
            "a915b5da839b4c529afc0287c8ce82bd",
            "0e8dff8be39d4195b8bc293207d5f75d",
            "eb969cb9380441a9a98403ebe395f9a9",
            "ce8df40309e542a2b2b1e47df3b45f32",
            "052c1c84853d40fba23cfb24298cf528",
            "22fee7f5699f4ff2adbcab198dc0ecdb",
            "a9833f344ef742808c4e42e4c2ab48a1",
            "f405d893ff55408a84c1626c7d4bf8db"
          ]
        },
        "id": "YNIOIn4OFJvy",
        "outputId": "143734d7-7d3c-4bea-eeb4-7cbbbd96a6a2"
      },
      "execution_count": 17,
      "outputs": [
        {
          "output_type": "display_data",
          "data": {
            "text/plain": [
              "<pandas.io.formats.style.Styler at 0x7adb7ef8b6a0>"
            ],
            "text/html": [
              "<style type=\"text/css\">\n",
              "#T_e7d52_row8_col1 {\n",
              "  background-color: lightgreen;\n",
              "}\n",
              "</style>\n",
              "<table id=\"T_e7d52\" class=\"dataframe\">\n",
              "  <thead>\n",
              "    <tr>\n",
              "      <th class=\"blank level0\" >&nbsp;</th>\n",
              "      <th id=\"T_e7d52_level0_col0\" class=\"col_heading level0 col0\" >Description</th>\n",
              "      <th id=\"T_e7d52_level0_col1\" class=\"col_heading level0 col1\" >Value</th>\n",
              "    </tr>\n",
              "  </thead>\n",
              "  <tbody>\n",
              "    <tr>\n",
              "      <th id=\"T_e7d52_level0_row0\" class=\"row_heading level0 row0\" >0</th>\n",
              "      <td id=\"T_e7d52_row0_col0\" class=\"data row0 col0\" >Session id</td>\n",
              "      <td id=\"T_e7d52_row0_col1\" class=\"data row0 col1\" >3556</td>\n",
              "    </tr>\n",
              "    <tr>\n",
              "      <th id=\"T_e7d52_level0_row1\" class=\"row_heading level0 row1\" >1</th>\n",
              "      <td id=\"T_e7d52_row1_col0\" class=\"data row1 col0\" >Target</td>\n",
              "      <td id=\"T_e7d52_row1_col1\" class=\"data row1 col1\" >default</td>\n",
              "    </tr>\n",
              "    <tr>\n",
              "      <th id=\"T_e7d52_level0_row2\" class=\"row_heading level0 row2\" >2</th>\n",
              "      <td id=\"T_e7d52_row2_col0\" class=\"data row2 col0\" >Target type</td>\n",
              "      <td id=\"T_e7d52_row2_col1\" class=\"data row2 col1\" >Binary</td>\n",
              "    </tr>\n",
              "    <tr>\n",
              "      <th id=\"T_e7d52_level0_row3\" class=\"row_heading level0 row3\" >3</th>\n",
              "      <td id=\"T_e7d52_row3_col0\" class=\"data row3 col0\" >Original data shape</td>\n",
              "      <td id=\"T_e7d52_row3_col1\" class=\"data row3 col1\" >(24000, 24)</td>\n",
              "    </tr>\n",
              "    <tr>\n",
              "      <th id=\"T_e7d52_level0_row4\" class=\"row_heading level0 row4\" >4</th>\n",
              "      <td id=\"T_e7d52_row4_col0\" class=\"data row4 col0\" >Transformed data shape</td>\n",
              "      <td id=\"T_e7d52_row4_col1\" class=\"data row4 col1\" >(24000, 24)</td>\n",
              "    </tr>\n",
              "    <tr>\n",
              "      <th id=\"T_e7d52_level0_row5\" class=\"row_heading level0 row5\" >5</th>\n",
              "      <td id=\"T_e7d52_row5_col0\" class=\"data row5 col0\" >Transformed train set shape</td>\n",
              "      <td id=\"T_e7d52_row5_col1\" class=\"data row5 col1\" >(16800, 24)</td>\n",
              "    </tr>\n",
              "    <tr>\n",
              "      <th id=\"T_e7d52_level0_row6\" class=\"row_heading level0 row6\" >6</th>\n",
              "      <td id=\"T_e7d52_row6_col0\" class=\"data row6 col0\" >Transformed test set shape</td>\n",
              "      <td id=\"T_e7d52_row6_col1\" class=\"data row6 col1\" >(7200, 24)</td>\n",
              "    </tr>\n",
              "    <tr>\n",
              "      <th id=\"T_e7d52_level0_row7\" class=\"row_heading level0 row7\" >7</th>\n",
              "      <td id=\"T_e7d52_row7_col0\" class=\"data row7 col0\" >Numeric features</td>\n",
              "      <td id=\"T_e7d52_row7_col1\" class=\"data row7 col1\" >23</td>\n",
              "    </tr>\n",
              "    <tr>\n",
              "      <th id=\"T_e7d52_level0_row8\" class=\"row_heading level0 row8\" >8</th>\n",
              "      <td id=\"T_e7d52_row8_col0\" class=\"data row8 col0\" >Preprocess</td>\n",
              "      <td id=\"T_e7d52_row8_col1\" class=\"data row8 col1\" >True</td>\n",
              "    </tr>\n",
              "    <tr>\n",
              "      <th id=\"T_e7d52_level0_row9\" class=\"row_heading level0 row9\" >9</th>\n",
              "      <td id=\"T_e7d52_row9_col0\" class=\"data row9 col0\" >Imputation type</td>\n",
              "      <td id=\"T_e7d52_row9_col1\" class=\"data row9 col1\" >simple</td>\n",
              "    </tr>\n",
              "    <tr>\n",
              "      <th id=\"T_e7d52_level0_row10\" class=\"row_heading level0 row10\" >10</th>\n",
              "      <td id=\"T_e7d52_row10_col0\" class=\"data row10 col0\" >Numeric imputation</td>\n",
              "      <td id=\"T_e7d52_row10_col1\" class=\"data row10 col1\" >mean</td>\n",
              "    </tr>\n",
              "    <tr>\n",
              "      <th id=\"T_e7d52_level0_row11\" class=\"row_heading level0 row11\" >11</th>\n",
              "      <td id=\"T_e7d52_row11_col0\" class=\"data row11 col0\" >Categorical imputation</td>\n",
              "      <td id=\"T_e7d52_row11_col1\" class=\"data row11 col1\" >mode</td>\n",
              "    </tr>\n",
              "    <tr>\n",
              "      <th id=\"T_e7d52_level0_row12\" class=\"row_heading level0 row12\" >12</th>\n",
              "      <td id=\"T_e7d52_row12_col0\" class=\"data row12 col0\" >Fold Generator</td>\n",
              "      <td id=\"T_e7d52_row12_col1\" class=\"data row12 col1\" >StratifiedKFold</td>\n",
              "    </tr>\n",
              "    <tr>\n",
              "      <th id=\"T_e7d52_level0_row13\" class=\"row_heading level0 row13\" >13</th>\n",
              "      <td id=\"T_e7d52_row13_col0\" class=\"data row13 col0\" >Fold Number</td>\n",
              "      <td id=\"T_e7d52_row13_col1\" class=\"data row13 col1\" >10</td>\n",
              "    </tr>\n",
              "    <tr>\n",
              "      <th id=\"T_e7d52_level0_row14\" class=\"row_heading level0 row14\" >14</th>\n",
              "      <td id=\"T_e7d52_row14_col0\" class=\"data row14 col0\" >CPU Jobs</td>\n",
              "      <td id=\"T_e7d52_row14_col1\" class=\"data row14 col1\" >-1</td>\n",
              "    </tr>\n",
              "    <tr>\n",
              "      <th id=\"T_e7d52_level0_row15\" class=\"row_heading level0 row15\" >15</th>\n",
              "      <td id=\"T_e7d52_row15_col0\" class=\"data row15 col0\" >Use GPU</td>\n",
              "      <td id=\"T_e7d52_row15_col1\" class=\"data row15 col1\" >False</td>\n",
              "    </tr>\n",
              "    <tr>\n",
              "      <th id=\"T_e7d52_level0_row16\" class=\"row_heading level0 row16\" >16</th>\n",
              "      <td id=\"T_e7d52_row16_col0\" class=\"data row16 col0\" >Log Experiment</td>\n",
              "      <td id=\"T_e7d52_row16_col1\" class=\"data row16 col1\" >False</td>\n",
              "    </tr>\n",
              "    <tr>\n",
              "      <th id=\"T_e7d52_level0_row17\" class=\"row_heading level0 row17\" >17</th>\n",
              "      <td id=\"T_e7d52_row17_col0\" class=\"data row17 col0\" >Experiment Name</td>\n",
              "      <td id=\"T_e7d52_row17_col1\" class=\"data row17 col1\" >clf-default-name</td>\n",
              "    </tr>\n",
              "    <tr>\n",
              "      <th id=\"T_e7d52_level0_row18\" class=\"row_heading level0 row18\" >18</th>\n",
              "      <td id=\"T_e7d52_row18_col0\" class=\"data row18 col0\" >USI</td>\n",
              "      <td id=\"T_e7d52_row18_col1\" class=\"data row18 col1\" >c665</td>\n",
              "    </tr>\n",
              "  </tbody>\n",
              "</table>\n"
            ]
          },
          "metadata": {}
        },
        {
          "output_type": "display_data",
          "data": {
            "text/plain": [
              "<IPython.core.display.HTML object>"
            ],
            "text/html": []
          },
          "metadata": {}
        },
        {
          "output_type": "display_data",
          "data": {
            "text/plain": [
              "<pandas.io.formats.style.Styler at 0x7adbf818fbb0>"
            ],
            "text/html": [
              "<style type=\"text/css\">\n",
              "#T_ae237 th {\n",
              "  text-align: left;\n",
              "}\n",
              "#T_ae237_row0_col0, #T_ae237_row0_col3, #T_ae237_row0_col4, #T_ae237_row0_col5, #T_ae237_row1_col0, #T_ae237_row1_col1, #T_ae237_row1_col2, #T_ae237_row1_col3, #T_ae237_row1_col4, #T_ae237_row1_col6, #T_ae237_row1_col7, #T_ae237_row2_col0, #T_ae237_row2_col1, #T_ae237_row2_col2, #T_ae237_row2_col3, #T_ae237_row2_col4, #T_ae237_row2_col5, #T_ae237_row2_col6, #T_ae237_row2_col7, #T_ae237_row3_col0, #T_ae237_row3_col1, #T_ae237_row3_col2, #T_ae237_row3_col3, #T_ae237_row3_col4, #T_ae237_row3_col5, #T_ae237_row3_col6, #T_ae237_row3_col7, #T_ae237_row4_col0, #T_ae237_row4_col1, #T_ae237_row4_col2, #T_ae237_row4_col3, #T_ae237_row4_col4, #T_ae237_row4_col5, #T_ae237_row4_col6, #T_ae237_row4_col7, #T_ae237_row5_col0, #T_ae237_row5_col1, #T_ae237_row5_col2, #T_ae237_row5_col3, #T_ae237_row5_col4, #T_ae237_row5_col5, #T_ae237_row5_col6, #T_ae237_row5_col7, #T_ae237_row6_col0, #T_ae237_row6_col1, #T_ae237_row6_col2, #T_ae237_row6_col3, #T_ae237_row6_col4, #T_ae237_row6_col5, #T_ae237_row6_col6, #T_ae237_row6_col7, #T_ae237_row7_col0, #T_ae237_row7_col1, #T_ae237_row7_col2, #T_ae237_row7_col3, #T_ae237_row7_col5, #T_ae237_row7_col6, #T_ae237_row7_col7, #T_ae237_row8_col0, #T_ae237_row8_col1, #T_ae237_row8_col2, #T_ae237_row8_col3, #T_ae237_row8_col4, #T_ae237_row8_col5, #T_ae237_row8_col6, #T_ae237_row8_col7, #T_ae237_row9_col0, #T_ae237_row9_col1, #T_ae237_row9_col2, #T_ae237_row9_col3, #T_ae237_row9_col4, #T_ae237_row9_col5, #T_ae237_row9_col6, #T_ae237_row9_col7, #T_ae237_row10_col0, #T_ae237_row10_col1, #T_ae237_row10_col2, #T_ae237_row10_col3, #T_ae237_row10_col4, #T_ae237_row10_col5, #T_ae237_row10_col6, #T_ae237_row10_col7, #T_ae237_row11_col0, #T_ae237_row11_col1, #T_ae237_row11_col2, #T_ae237_row11_col3, #T_ae237_row11_col4, #T_ae237_row11_col5, #T_ae237_row11_col6, #T_ae237_row11_col7, #T_ae237_row12_col0, #T_ae237_row12_col1, #T_ae237_row12_col2, #T_ae237_row12_col3, #T_ae237_row12_col4, #T_ae237_row12_col5, #T_ae237_row12_col6, #T_ae237_row12_col7, #T_ae237_row13_col0, #T_ae237_row13_col1, #T_ae237_row13_col2, #T_ae237_row13_col3, #T_ae237_row13_col4, #T_ae237_row13_col5, #T_ae237_row13_col6, #T_ae237_row13_col7, #T_ae237_row14_col0, #T_ae237_row14_col1, #T_ae237_row14_col2, #T_ae237_row14_col4, #T_ae237_row14_col5, #T_ae237_row14_col6, #T_ae237_row14_col7 {\n",
              "  text-align: left;\n",
              "}\n",
              "#T_ae237_row0_col1, #T_ae237_row0_col2, #T_ae237_row0_col6, #T_ae237_row0_col7, #T_ae237_row1_col5, #T_ae237_row7_col4, #T_ae237_row14_col3 {\n",
              "  text-align: left;\n",
              "  background-color: yellow;\n",
              "}\n",
              "#T_ae237_row0_col8, #T_ae237_row1_col8, #T_ae237_row2_col8, #T_ae237_row3_col8, #T_ae237_row4_col8, #T_ae237_row5_col8, #T_ae237_row6_col8, #T_ae237_row7_col8, #T_ae237_row8_col8, #T_ae237_row10_col8, #T_ae237_row11_col8, #T_ae237_row12_col8, #T_ae237_row13_col8, #T_ae237_row14_col8 {\n",
              "  text-align: left;\n",
              "  background-color: lightgrey;\n",
              "}\n",
              "#T_ae237_row9_col8 {\n",
              "  text-align: left;\n",
              "  background-color: yellow;\n",
              "  background-color: lightgrey;\n",
              "}\n",
              "</style>\n",
              "<table id=\"T_ae237\" class=\"dataframe\">\n",
              "  <thead>\n",
              "    <tr>\n",
              "      <th class=\"blank level0\" >&nbsp;</th>\n",
              "      <th id=\"T_ae237_level0_col0\" class=\"col_heading level0 col0\" >Model</th>\n",
              "      <th id=\"T_ae237_level0_col1\" class=\"col_heading level0 col1\" >Accuracy</th>\n",
              "      <th id=\"T_ae237_level0_col2\" class=\"col_heading level0 col2\" >AUC</th>\n",
              "      <th id=\"T_ae237_level0_col3\" class=\"col_heading level0 col3\" >Recall</th>\n",
              "      <th id=\"T_ae237_level0_col4\" class=\"col_heading level0 col4\" >Prec.</th>\n",
              "      <th id=\"T_ae237_level0_col5\" class=\"col_heading level0 col5\" >F1</th>\n",
              "      <th id=\"T_ae237_level0_col6\" class=\"col_heading level0 col6\" >Kappa</th>\n",
              "      <th id=\"T_ae237_level0_col7\" class=\"col_heading level0 col7\" >MCC</th>\n",
              "      <th id=\"T_ae237_level0_col8\" class=\"col_heading level0 col8\" >TT (Sec)</th>\n",
              "    </tr>\n",
              "  </thead>\n",
              "  <tbody>\n",
              "    <tr>\n",
              "      <th id=\"T_ae237_level0_row0\" class=\"row_heading level0 row0\" >gbc</th>\n",
              "      <td id=\"T_ae237_row0_col0\" class=\"data row0 col0\" >Gradient Boosting Classifier</td>\n",
              "      <td id=\"T_ae237_row0_col1\" class=\"data row0 col1\" >0.8205</td>\n",
              "      <td id=\"T_ae237_row0_col2\" class=\"data row0 col2\" >0.7764</td>\n",
              "      <td id=\"T_ae237_row0_col3\" class=\"data row0 col3\" >0.3640</td>\n",
              "      <td id=\"T_ae237_row0_col4\" class=\"data row0 col4\" >0.6744</td>\n",
              "      <td id=\"T_ae237_row0_col5\" class=\"data row0 col5\" >0.4726</td>\n",
              "      <td id=\"T_ae237_row0_col6\" class=\"data row0 col6\" >0.3759</td>\n",
              "      <td id=\"T_ae237_row0_col7\" class=\"data row0 col7\" >0.4020</td>\n",
              "      <td id=\"T_ae237_row0_col8\" class=\"data row0 col8\" >5.1290</td>\n",
              "    </tr>\n",
              "    <tr>\n",
              "      <th id=\"T_ae237_level0_row1\" class=\"row_heading level0 row1\" >lightgbm</th>\n",
              "      <td id=\"T_ae237_row1_col0\" class=\"data row1 col0\" >Light Gradient Boosting Machine</td>\n",
              "      <td id=\"T_ae237_row1_col1\" class=\"data row1 col1\" >0.8198</td>\n",
              "      <td id=\"T_ae237_row1_col2\" class=\"data row1 col2\" >0.7742</td>\n",
              "      <td id=\"T_ae237_row1_col3\" class=\"data row1 col3\" >0.3662</td>\n",
              "      <td id=\"T_ae237_row1_col4\" class=\"data row1 col4\" >0.6692</td>\n",
              "      <td id=\"T_ae237_row1_col5\" class=\"data row1 col5\" >0.4730</td>\n",
              "      <td id=\"T_ae237_row1_col6\" class=\"data row1 col6\" >0.3754</td>\n",
              "      <td id=\"T_ae237_row1_col7\" class=\"data row1 col7\" >0.4004</td>\n",
              "      <td id=\"T_ae237_row1_col8\" class=\"data row1 col8\" >1.7240</td>\n",
              "    </tr>\n",
              "    <tr>\n",
              "      <th id=\"T_ae237_level0_row2\" class=\"row_heading level0 row2\" >ada</th>\n",
              "      <td id=\"T_ae237_row2_col0\" class=\"data row2 col0\" >Ada Boost Classifier</td>\n",
              "      <td id=\"T_ae237_row2_col1\" class=\"data row2 col1\" >0.8179</td>\n",
              "      <td id=\"T_ae237_row2_col2\" class=\"data row2 col2\" >0.7692</td>\n",
              "      <td id=\"T_ae237_row2_col3\" class=\"data row2 col3\" >0.3193</td>\n",
              "      <td id=\"T_ae237_row2_col4\" class=\"data row2 col4\" >0.6908</td>\n",
              "      <td id=\"T_ae237_row2_col5\" class=\"data row2 col5\" >0.4362</td>\n",
              "      <td id=\"T_ae237_row2_col6\" class=\"data row2 col6\" >0.3448</td>\n",
              "      <td id=\"T_ae237_row2_col7\" class=\"data row2 col7\" >0.3816</td>\n",
              "      <td id=\"T_ae237_row2_col8\" class=\"data row2 col8\" >1.5770</td>\n",
              "    </tr>\n",
              "    <tr>\n",
              "      <th id=\"T_ae237_level0_row3\" class=\"row_heading level0 row3\" >rf</th>\n",
              "      <td id=\"T_ae237_row3_col0\" class=\"data row3 col0\" >Random Forest Classifier</td>\n",
              "      <td id=\"T_ae237_row3_col1\" class=\"data row3 col1\" >0.8140</td>\n",
              "      <td id=\"T_ae237_row3_col2\" class=\"data row3 col2\" >0.7599</td>\n",
              "      <td id=\"T_ae237_row3_col3\" class=\"data row3 col3\" >0.3602</td>\n",
              "      <td id=\"T_ae237_row3_col4\" class=\"data row3 col4\" >0.6410</td>\n",
              "      <td id=\"T_ae237_row3_col5\" class=\"data row3 col5\" >0.4608</td>\n",
              "      <td id=\"T_ae237_row3_col6\" class=\"data row3 col6\" >0.3592</td>\n",
              "      <td id=\"T_ae237_row3_col7\" class=\"data row3 col7\" >0.3811</td>\n",
              "      <td id=\"T_ae237_row3_col8\" class=\"data row3 col8\" >4.2380</td>\n",
              "    </tr>\n",
              "    <tr>\n",
              "      <th id=\"T_ae237_level0_row4\" class=\"row_heading level0 row4\" >xgboost</th>\n",
              "      <td id=\"T_ae237_row4_col0\" class=\"data row4 col0\" >Extreme Gradient Boosting</td>\n",
              "      <td id=\"T_ae237_row4_col1\" class=\"data row4 col1\" >0.8138</td>\n",
              "      <td id=\"T_ae237_row4_col2\" class=\"data row4 col2\" >0.7606</td>\n",
              "      <td id=\"T_ae237_row4_col3\" class=\"data row4 col3\" >0.3686</td>\n",
              "      <td id=\"T_ae237_row4_col4\" class=\"data row4 col4\" >0.6363</td>\n",
              "      <td id=\"T_ae237_row4_col5\" class=\"data row4 col5\" >0.4664</td>\n",
              "      <td id=\"T_ae237_row4_col6\" class=\"data row4 col6\" >0.3633</td>\n",
              "      <td id=\"T_ae237_row4_col7\" class=\"data row4 col7\" >0.3833</td>\n",
              "      <td id=\"T_ae237_row4_col8\" class=\"data row4 col8\" >0.3660</td>\n",
              "    </tr>\n",
              "    <tr>\n",
              "      <th id=\"T_ae237_level0_row5\" class=\"row_heading level0 row5\" >et</th>\n",
              "      <td id=\"T_ae237_row5_col0\" class=\"data row5 col0\" >Extra Trees Classifier</td>\n",
              "      <td id=\"T_ae237_row5_col1\" class=\"data row5 col1\" >0.8098</td>\n",
              "      <td id=\"T_ae237_row5_col2\" class=\"data row5 col2\" >0.7527</td>\n",
              "      <td id=\"T_ae237_row5_col3\" class=\"data row5 col3\" >0.3646</td>\n",
              "      <td id=\"T_ae237_row5_col4\" class=\"data row5 col4\" >0.6177</td>\n",
              "      <td id=\"T_ae237_row5_col5\" class=\"data row5 col5\" >0.4581</td>\n",
              "      <td id=\"T_ae237_row5_col6\" class=\"data row5 col6\" >0.3521</td>\n",
              "      <td id=\"T_ae237_row5_col7\" class=\"data row5 col7\" >0.3702</td>\n",
              "      <td id=\"T_ae237_row5_col8\" class=\"data row5 col8\" >1.6960</td>\n",
              "    </tr>\n",
              "    <tr>\n",
              "      <th id=\"T_ae237_level0_row6\" class=\"row_heading level0 row6\" >lda</th>\n",
              "      <td id=\"T_ae237_row6_col0\" class=\"data row6 col0\" >Linear Discriminant Analysis</td>\n",
              "      <td id=\"T_ae237_row6_col1\" class=\"data row6 col1\" >0.8089</td>\n",
              "      <td id=\"T_ae237_row6_col2\" class=\"data row6 col2\" >0.7165</td>\n",
              "      <td id=\"T_ae237_row6_col3\" class=\"data row6 col3\" >0.2418</td>\n",
              "      <td id=\"T_ae237_row6_col4\" class=\"data row6 col4\" >0.6951</td>\n",
              "      <td id=\"T_ae237_row6_col5\" class=\"data row6 col5\" >0.3586</td>\n",
              "      <td id=\"T_ae237_row6_col6\" class=\"data row6 col6\" >0.2761</td>\n",
              "      <td id=\"T_ae237_row6_col7\" class=\"data row6 col7\" >0.3296</td>\n",
              "      <td id=\"T_ae237_row6_col8\" class=\"data row6 col8\" >0.0820</td>\n",
              "    </tr>\n",
              "    <tr>\n",
              "      <th id=\"T_ae237_level0_row7\" class=\"row_heading level0 row7\" >ridge</th>\n",
              "      <td id=\"T_ae237_row7_col0\" class=\"data row7 col0\" >Ridge Classifier</td>\n",
              "      <td id=\"T_ae237_row7_col1\" class=\"data row7 col1\" >0.7970</td>\n",
              "      <td id=\"T_ae237_row7_col2\" class=\"data row7 col2\" >0.0000</td>\n",
              "      <td id=\"T_ae237_row7_col3\" class=\"data row7 col3\" >0.1333</td>\n",
              "      <td id=\"T_ae237_row7_col4\" class=\"data row7 col4\" >0.7230</td>\n",
              "      <td id=\"T_ae237_row7_col5\" class=\"data row7 col5\" >0.2248</td>\n",
              "      <td id=\"T_ae237_row7_col6\" class=\"data row7 col6\" >0.1675</td>\n",
              "      <td id=\"T_ae237_row7_col7\" class=\"data row7 col7\" >0.2490</td>\n",
              "      <td id=\"T_ae237_row7_col8\" class=\"data row7 col8\" >0.1010</td>\n",
              "    </tr>\n",
              "    <tr>\n",
              "      <th id=\"T_ae237_level0_row8\" class=\"row_heading level0 row8\" >lr</th>\n",
              "      <td id=\"T_ae237_row8_col0\" class=\"data row8 col0\" >Logistic Regression</td>\n",
              "      <td id=\"T_ae237_row8_col1\" class=\"data row8 col1\" >0.7789</td>\n",
              "      <td id=\"T_ae237_row8_col2\" class=\"data row8 col2\" >0.6454</td>\n",
              "      <td id=\"T_ae237_row8_col3\" class=\"data row8 col3\" >0.0000</td>\n",
              "      <td id=\"T_ae237_row8_col4\" class=\"data row8 col4\" >0.0000</td>\n",
              "      <td id=\"T_ae237_row8_col5\" class=\"data row8 col5\" >0.0000</td>\n",
              "      <td id=\"T_ae237_row8_col6\" class=\"data row8 col6\" >-0.0001</td>\n",
              "      <td id=\"T_ae237_row8_col7\" class=\"data row8 col7\" >-0.0013</td>\n",
              "      <td id=\"T_ae237_row8_col8\" class=\"data row8 col8\" >0.6530</td>\n",
              "    </tr>\n",
              "    <tr>\n",
              "      <th id=\"T_ae237_level0_row9\" class=\"row_heading level0 row9\" >dummy</th>\n",
              "      <td id=\"T_ae237_row9_col0\" class=\"data row9 col0\" >Dummy Classifier</td>\n",
              "      <td id=\"T_ae237_row9_col1\" class=\"data row9 col1\" >0.7789</td>\n",
              "      <td id=\"T_ae237_row9_col2\" class=\"data row9 col2\" >0.5000</td>\n",
              "      <td id=\"T_ae237_row9_col3\" class=\"data row9 col3\" >0.0000</td>\n",
              "      <td id=\"T_ae237_row9_col4\" class=\"data row9 col4\" >0.0000</td>\n",
              "      <td id=\"T_ae237_row9_col5\" class=\"data row9 col5\" >0.0000</td>\n",
              "      <td id=\"T_ae237_row9_col6\" class=\"data row9 col6\" >0.0000</td>\n",
              "      <td id=\"T_ae237_row9_col7\" class=\"data row9 col7\" >0.0000</td>\n",
              "      <td id=\"T_ae237_row9_col8\" class=\"data row9 col8\" >0.0270</td>\n",
              "    </tr>\n",
              "    <tr>\n",
              "      <th id=\"T_ae237_level0_row10\" class=\"row_heading level0 row10\" >knn</th>\n",
              "      <td id=\"T_ae237_row10_col0\" class=\"data row10 col0\" >K Neighbors Classifier</td>\n",
              "      <td id=\"T_ae237_row10_col1\" class=\"data row10 col1\" >0.7526</td>\n",
              "      <td id=\"T_ae237_row10_col2\" class=\"data row10 col2\" >0.6033</td>\n",
              "      <td id=\"T_ae237_row10_col3\" class=\"data row10 col3\" >0.1723</td>\n",
              "      <td id=\"T_ae237_row10_col4\" class=\"data row10 col4\" >0.3714</td>\n",
              "      <td id=\"T_ae237_row10_col5\" class=\"data row10 col5\" >0.2350</td>\n",
              "      <td id=\"T_ae237_row10_col6\" class=\"data row10 col6\" >0.1107</td>\n",
              "      <td id=\"T_ae237_row10_col7\" class=\"data row10 col7\" >0.1224</td>\n",
              "      <td id=\"T_ae237_row10_col8\" class=\"data row10 col8\" >0.2970</td>\n",
              "    </tr>\n",
              "    <tr>\n",
              "      <th id=\"T_ae237_level0_row11\" class=\"row_heading level0 row11\" >dt</th>\n",
              "      <td id=\"T_ae237_row11_col0\" class=\"data row11 col0\" >Decision Tree Classifier</td>\n",
              "      <td id=\"T_ae237_row11_col1\" class=\"data row11 col1\" >0.7286</td>\n",
              "      <td id=\"T_ae237_row11_col2\" class=\"data row11 col2\" >0.6190</td>\n",
              "      <td id=\"T_ae237_row11_col3\" class=\"data row11 col3\" >0.4230</td>\n",
              "      <td id=\"T_ae237_row11_col4\" class=\"data row11 col4\" >0.3938</td>\n",
              "      <td id=\"T_ae237_row11_col5\" class=\"data row11 col5\" >0.4076</td>\n",
              "      <td id=\"T_ae237_row11_col6\" class=\"data row11 col6\" >0.2320</td>\n",
              "      <td id=\"T_ae237_row11_col7\" class=\"data row11 col7\" >0.2324</td>\n",
              "      <td id=\"T_ae237_row11_col8\" class=\"data row11 col8\" >0.7640</td>\n",
              "    </tr>\n",
              "    <tr>\n",
              "      <th id=\"T_ae237_level0_row12\" class=\"row_heading level0 row12\" >svm</th>\n",
              "      <td id=\"T_ae237_row12_col0\" class=\"data row12 col0\" >SVM - Linear Kernel</td>\n",
              "      <td id=\"T_ae237_row12_col1\" class=\"data row12 col1\" >0.6512</td>\n",
              "      <td id=\"T_ae237_row12_col2\" class=\"data row12 col2\" >0.0000</td>\n",
              "      <td id=\"T_ae237_row12_col3\" class=\"data row12 col3\" >0.2660</td>\n",
              "      <td id=\"T_ae237_row12_col4\" class=\"data row12 col4\" >0.2197</td>\n",
              "      <td id=\"T_ae237_row12_col5\" class=\"data row12 col5\" >0.1371</td>\n",
              "      <td id=\"T_ae237_row12_col6\" class=\"data row12 col6\" >0.0187</td>\n",
              "      <td id=\"T_ae237_row12_col7\" class=\"data row12 col7\" >0.0324</td>\n",
              "      <td id=\"T_ae237_row12_col8\" class=\"data row12 col8\" >0.3650</td>\n",
              "    </tr>\n",
              "    <tr>\n",
              "      <th id=\"T_ae237_level0_row13\" class=\"row_heading level0 row13\" >qda</th>\n",
              "      <td id=\"T_ae237_row13_col0\" class=\"data row13 col0\" >Quadratic Discriminant Analysis</td>\n",
              "      <td id=\"T_ae237_row13_col1\" class=\"data row13 col1\" >0.4234</td>\n",
              "      <td id=\"T_ae237_row13_col2\" class=\"data row13 col2\" >0.7189</td>\n",
              "      <td id=\"T_ae237_row13_col3\" class=\"data row13 col3\" >0.8716</td>\n",
              "      <td id=\"T_ae237_row13_col4\" class=\"data row13 col4\" >0.2603</td>\n",
              "      <td id=\"T_ae237_row13_col5\" class=\"data row13 col5\" >0.4008</td>\n",
              "      <td id=\"T_ae237_row13_col6\" class=\"data row13 col6\" >0.0915</td>\n",
              "      <td id=\"T_ae237_row13_col7\" class=\"data row13 col7\" >0.1586</td>\n",
              "      <td id=\"T_ae237_row13_col8\" class=\"data row13 col8\" >0.0470</td>\n",
              "    </tr>\n",
              "    <tr>\n",
              "      <th id=\"T_ae237_level0_row14\" class=\"row_heading level0 row14\" >nb</th>\n",
              "      <td id=\"T_ae237_row14_col0\" class=\"data row14 col0\" >Naive Bayes</td>\n",
              "      <td id=\"T_ae237_row14_col1\" class=\"data row14 col1\" >0.3595</td>\n",
              "      <td id=\"T_ae237_row14_col2\" class=\"data row14 col2\" >0.6659</td>\n",
              "      <td id=\"T_ae237_row14_col3\" class=\"data row14 col3\" >0.9039</td>\n",
              "      <td id=\"T_ae237_row14_col4\" class=\"data row14 col4\" >0.2440</td>\n",
              "      <td id=\"T_ae237_row14_col5\" class=\"data row14 col5\" >0.3842</td>\n",
              "      <td id=\"T_ae237_row14_col6\" class=\"data row14 col6\" >0.0553</td>\n",
              "      <td id=\"T_ae237_row14_col7\" class=\"data row14 col7\" >0.1172</td>\n",
              "      <td id=\"T_ae237_row14_col8\" class=\"data row14 col8\" >0.0550</td>\n",
              "    </tr>\n",
              "  </tbody>\n",
              "</table>\n"
            ]
          },
          "metadata": {}
        },
        {
          "output_type": "display_data",
          "data": {
            "text/plain": [
              "Processing:   0%|          | 0/65 [00:00<?, ?it/s]"
            ],
            "application/vnd.jupyter.widget-view+json": {
              "version_major": 2,
              "version_minor": 0,
              "model_id": "a70c6f71403a4c659df1e373e84f428b"
            }
          },
          "metadata": {
            "application/vnd.jupyter.widget-view+json": {
              "colab": {
                "custom_widget_manager": {
                  "url": "https://ssl.gstatic.com/colaboratory-static/widgets/colab-cdn-widget-manager/b3e629b1971e1542/manager.min.js"
                }
              }
            }
          }
        },
        {
          "output_type": "display_data",
          "data": {
            "text/plain": [
              "<IPython.core.display.HTML object>"
            ],
            "text/html": []
          },
          "metadata": {}
        },
        {
          "output_type": "stream",
          "name": "stdout",
          "text": [
            "CPU times: user 15.2 s, sys: 541 ms, total: 15.8 s\n",
            "Wall time: 3min 6s\n"
          ]
        }
      ]
    },
    {
      "cell_type": "markdown",
      "source": [
        "###**Result:**\n",
        "as you can see the best estimator is [Gradient Boosting Classifier (gbc)](https://scikit-learn.org/stable/modules/generated/sklearn.ensemble.GradientBoostingClassifier.html) with an accuracy of 82.06% and and AUC of 0.7769 and F1-score and MCC of 0.4778, 0.4048 repectively.\n",
        "\n"
      ],
      "metadata": {
        "id": "PEavPxYiOQkI"
      }
    },
    {
      "cell_type": "markdown",
      "source": [
        "![image.png](data:image/png;base64,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)"
      ],
      "metadata": {
        "id": "omwAUiDdh7qO"
      }
    },
    {
      "cell_type": "markdown",
      "source": [
        "**Let's create the model:**\n",
        "\n",
        "by passing the \"gbc\" string to the <code> create_model(\"gbc\")</code>"
      ],
      "metadata": {
        "id": "3XkFIstMiCHi"
      }
    },
    {
      "cell_type": "code",
      "source": [
        "%%time\n",
        "gbc = create_model(\"gbc\")"
      ],
      "metadata": {
        "colab": {
          "base_uri": "https://localhost:8080/",
          "height": 492,
          "referenced_widgets": [
            "5f0e982f5cba4a6eb34568587cf57931",
            "6cfd4b18537942bc8aa26393c0b8b341",
            "0972c51c343b45c5a6d4d0c2740d6ed6",
            "cd218ef61d834449aa3786ba01742536",
            "ebce598f91024cbcb208f9516e97fe87",
            "2089e6c25cbc4468823430e47beb28fa",
            "04d1930d32464d2baf599beba561f880",
            "06fd6c20092a41bf8837590e967b2d0b",
            "935c00f3aad84c89897ccb172bfed3f2",
            "506e5f6e6abd436db1c0a6e1a8ed358a",
            "db7b77481609488e8011e0a9a1672c56"
          ]
        },
        "id": "3ShbjZFEiRQL",
        "outputId": "2a86b44f-2d15-438c-b15b-2ce3a63c2260"
      },
      "execution_count": 18,
      "outputs": [
        {
          "output_type": "display_data",
          "data": {
            "text/plain": [
              "<IPython.core.display.HTML object>"
            ],
            "text/html": []
          },
          "metadata": {}
        },
        {
          "output_type": "display_data",
          "data": {
            "text/plain": [
              "<pandas.io.formats.style.Styler at 0x7adb7fbcba30>"
            ],
            "text/html": [
              "<style type=\"text/css\">\n",
              "#T_c3439_row10_col0, #T_c3439_row10_col1, #T_c3439_row10_col2, #T_c3439_row10_col3, #T_c3439_row10_col4, #T_c3439_row10_col5, #T_c3439_row10_col6 {\n",
              "  background: yellow;\n",
              "}\n",
              "</style>\n",
              "<table id=\"T_c3439\" class=\"dataframe\">\n",
              "  <thead>\n",
              "    <tr>\n",
              "      <th class=\"blank level0\" >&nbsp;</th>\n",
              "      <th id=\"T_c3439_level0_col0\" class=\"col_heading level0 col0\" >Accuracy</th>\n",
              "      <th id=\"T_c3439_level0_col1\" class=\"col_heading level0 col1\" >AUC</th>\n",
              "      <th id=\"T_c3439_level0_col2\" class=\"col_heading level0 col2\" >Recall</th>\n",
              "      <th id=\"T_c3439_level0_col3\" class=\"col_heading level0 col3\" >Prec.</th>\n",
              "      <th id=\"T_c3439_level0_col4\" class=\"col_heading level0 col4\" >F1</th>\n",
              "      <th id=\"T_c3439_level0_col5\" class=\"col_heading level0 col5\" >Kappa</th>\n",
              "      <th id=\"T_c3439_level0_col6\" class=\"col_heading level0 col6\" >MCC</th>\n",
              "    </tr>\n",
              "    <tr>\n",
              "      <th class=\"index_name level0\" >Fold</th>\n",
              "      <th class=\"blank col0\" >&nbsp;</th>\n",
              "      <th class=\"blank col1\" >&nbsp;</th>\n",
              "      <th class=\"blank col2\" >&nbsp;</th>\n",
              "      <th class=\"blank col3\" >&nbsp;</th>\n",
              "      <th class=\"blank col4\" >&nbsp;</th>\n",
              "      <th class=\"blank col5\" >&nbsp;</th>\n",
              "      <th class=\"blank col6\" >&nbsp;</th>\n",
              "    </tr>\n",
              "  </thead>\n",
              "  <tbody>\n",
              "    <tr>\n",
              "      <th id=\"T_c3439_level0_row0\" class=\"row_heading level0 row0\" >0</th>\n",
              "      <td id=\"T_c3439_row0_col0\" class=\"data row0 col0\" >0.8238</td>\n",
              "      <td id=\"T_c3439_row0_col1\" class=\"data row0 col1\" >0.7930</td>\n",
              "      <td id=\"T_c3439_row0_col2\" class=\"data row0 col2\" >0.3801</td>\n",
              "      <td id=\"T_c3439_row0_col3\" class=\"data row0 col3\" >0.6812</td>\n",
              "      <td id=\"T_c3439_row0_col4\" class=\"data row0 col4\" >0.4879</td>\n",
              "      <td id=\"T_c3439_row0_col5\" class=\"data row0 col5\" >0.3917</td>\n",
              "      <td id=\"T_c3439_row0_col6\" class=\"data row0 col6\" >0.4160</td>\n",
              "    </tr>\n",
              "    <tr>\n",
              "      <th id=\"T_c3439_level0_row1\" class=\"row_heading level0 row1\" >1</th>\n",
              "      <td id=\"T_c3439_row1_col0\" class=\"data row1 col0\" >0.8131</td>\n",
              "      <td id=\"T_c3439_row1_col1\" class=\"data row1 col1\" >0.7672</td>\n",
              "      <td id=\"T_c3439_row1_col2\" class=\"data row1 col2\" >0.3208</td>\n",
              "      <td id=\"T_c3439_row1_col3\" class=\"data row1 col3\" >0.6575</td>\n",
              "      <td id=\"T_c3439_row1_col4\" class=\"data row1 col4\" >0.4312</td>\n",
              "      <td id=\"T_c3439_row1_col5\" class=\"data row1 col5\" >0.3348</td>\n",
              "      <td id=\"T_c3439_row1_col6\" class=\"data row1 col6\" >0.3658</td>\n",
              "    </tr>\n",
              "    <tr>\n",
              "      <th id=\"T_c3439_level0_row2\" class=\"row_heading level0 row2\" >2</th>\n",
              "      <td id=\"T_c3439_row2_col0\" class=\"data row2 col0\" >0.8220</td>\n",
              "      <td id=\"T_c3439_row2_col1\" class=\"data row2 col1\" >0.7682</td>\n",
              "      <td id=\"T_c3439_row2_col2\" class=\"data row2 col2\" >0.3585</td>\n",
              "      <td id=\"T_c3439_row2_col3\" class=\"data row2 col3\" >0.6856</td>\n",
              "      <td id=\"T_c3439_row2_col4\" class=\"data row2 col4\" >0.4708</td>\n",
              "      <td id=\"T_c3439_row2_col5\" class=\"data row2 col5\" >0.3762</td>\n",
              "      <td id=\"T_c3439_row2_col6\" class=\"data row2 col6\" >0.4048</td>\n",
              "    </tr>\n",
              "    <tr>\n",
              "      <th id=\"T_c3439_level0_row3\" class=\"row_heading level0 row3\" >3</th>\n",
              "      <td id=\"T_c3439_row3_col0\" class=\"data row3 col0\" >0.8173</td>\n",
              "      <td id=\"T_c3439_row3_col1\" class=\"data row3 col1\" >0.7860</td>\n",
              "      <td id=\"T_c3439_row3_col2\" class=\"data row3 col2\" >0.3693</td>\n",
              "      <td id=\"T_c3439_row3_col3\" class=\"data row3 col3\" >0.6524</td>\n",
              "      <td id=\"T_c3439_row3_col4\" class=\"data row3 col4\" >0.4716</td>\n",
              "      <td id=\"T_c3439_row3_col5\" class=\"data row3 col5\" >0.3712</td>\n",
              "      <td id=\"T_c3439_row3_col6\" class=\"data row3 col6\" >0.3932</td>\n",
              "    </tr>\n",
              "    <tr>\n",
              "      <th id=\"T_c3439_level0_row4\" class=\"row_heading level0 row4\" >4</th>\n",
              "      <td id=\"T_c3439_row4_col0\" class=\"data row4 col0\" >0.8238</td>\n",
              "      <td id=\"T_c3439_row4_col1\" class=\"data row4 col1\" >0.7830</td>\n",
              "      <td id=\"T_c3439_row4_col2\" class=\"data row4 col2\" >0.3720</td>\n",
              "      <td id=\"T_c3439_row4_col3\" class=\"data row4 col3\" >0.6866</td>\n",
              "      <td id=\"T_c3439_row4_col4\" class=\"data row4 col4\" >0.4825</td>\n",
              "      <td id=\"T_c3439_row4_col5\" class=\"data row4 col5\" >0.3874</td>\n",
              "      <td id=\"T_c3439_row4_col6\" class=\"data row4 col6\" >0.4139</td>\n",
              "    </tr>\n",
              "    <tr>\n",
              "      <th id=\"T_c3439_level0_row5\" class=\"row_heading level0 row5\" >5</th>\n",
              "      <td id=\"T_c3439_row5_col0\" class=\"data row5 col0\" >0.8161</td>\n",
              "      <td id=\"T_c3439_row5_col1\" class=\"data row5 col1\" >0.7484</td>\n",
              "      <td id=\"T_c3439_row5_col2\" class=\"data row5 col2\" >0.3504</td>\n",
              "      <td id=\"T_c3439_row5_col3\" class=\"data row5 col3\" >0.6566</td>\n",
              "      <td id=\"T_c3439_row5_col4\" class=\"data row5 col4\" >0.4569</td>\n",
              "      <td id=\"T_c3439_row5_col5\" class=\"data row5 col5\" >0.3583</td>\n",
              "      <td id=\"T_c3439_row5_col6\" class=\"data row5 col6\" >0.3840</td>\n",
              "    </tr>\n",
              "    <tr>\n",
              "      <th id=\"T_c3439_level0_row6\" class=\"row_heading level0 row6\" >6</th>\n",
              "      <td id=\"T_c3439_row6_col0\" class=\"data row6 col0\" >0.8173</td>\n",
              "      <td id=\"T_c3439_row6_col1\" class=\"data row6 col1\" >0.7803</td>\n",
              "      <td id=\"T_c3439_row6_col2\" class=\"data row6 col2\" >0.3468</td>\n",
              "      <td id=\"T_c3439_row6_col3\" class=\"data row6 col3\" >0.6684</td>\n",
              "      <td id=\"T_c3439_row6_col4\" class=\"data row6 col4\" >0.4566</td>\n",
              "      <td id=\"T_c3439_row6_col5\" class=\"data row6 col5\" >0.3598</td>\n",
              "      <td id=\"T_c3439_row6_col6\" class=\"data row6 col6\" >0.3878</td>\n",
              "    </tr>\n",
              "    <tr>\n",
              "      <th id=\"T_c3439_level0_row7\" class=\"row_heading level0 row7\" >7</th>\n",
              "      <td id=\"T_c3439_row7_col0\" class=\"data row7 col0\" >0.8185</td>\n",
              "      <td id=\"T_c3439_row7_col1\" class=\"data row7 col1\" >0.7658</td>\n",
              "      <td id=\"T_c3439_row7_col2\" class=\"data row7 col2\" >0.3710</td>\n",
              "      <td id=\"T_c3439_row7_col3\" class=\"data row7 col3\" >0.6603</td>\n",
              "      <td id=\"T_c3439_row7_col4\" class=\"data row7 col4\" >0.4750</td>\n",
              "      <td id=\"T_c3439_row7_col5\" class=\"data row7 col5\" >0.3756</td>\n",
              "      <td id=\"T_c3439_row7_col6\" class=\"data row7 col6\" >0.3984</td>\n",
              "    </tr>\n",
              "    <tr>\n",
              "      <th id=\"T_c3439_level0_row8\" class=\"row_heading level0 row8\" >8</th>\n",
              "      <td id=\"T_c3439_row8_col0\" class=\"data row8 col0\" >0.8292</td>\n",
              "      <td id=\"T_c3439_row8_col1\" class=\"data row8 col1\" >0.7797</td>\n",
              "      <td id=\"T_c3439_row8_col2\" class=\"data row8 col2\" >0.3763</td>\n",
              "      <td id=\"T_c3439_row8_col3\" class=\"data row8 col3\" >0.7179</td>\n",
              "      <td id=\"T_c3439_row8_col4\" class=\"data row8 col4\" >0.4938</td>\n",
              "      <td id=\"T_c3439_row8_col5\" class=\"data row8 col5\" >0.4029</td>\n",
              "      <td id=\"T_c3439_row8_col6\" class=\"data row8 col6\" >0.4333</td>\n",
              "    </tr>\n",
              "    <tr>\n",
              "      <th id=\"T_c3439_level0_row9\" class=\"row_heading level0 row9\" >9</th>\n",
              "      <td id=\"T_c3439_row9_col0\" class=\"data row9 col0\" >0.8244</td>\n",
              "      <td id=\"T_c3439_row9_col1\" class=\"data row9 col1\" >0.7925</td>\n",
              "      <td id=\"T_c3439_row9_col2\" class=\"data row9 col2\" >0.3952</td>\n",
              "      <td id=\"T_c3439_row9_col3\" class=\"data row9 col3\" >0.6774</td>\n",
              "      <td id=\"T_c3439_row9_col4\" class=\"data row9 col4\" >0.4992</td>\n",
              "      <td id=\"T_c3439_row9_col5\" class=\"data row9 col5\" >0.4015</td>\n",
              "      <td id=\"T_c3439_row9_col6\" class=\"data row9 col6\" >0.4230</td>\n",
              "    </tr>\n",
              "    <tr>\n",
              "      <th id=\"T_c3439_level0_row10\" class=\"row_heading level0 row10\" >Mean</th>\n",
              "      <td id=\"T_c3439_row10_col0\" class=\"data row10 col0\" >0.8205</td>\n",
              "      <td id=\"T_c3439_row10_col1\" class=\"data row10 col1\" >0.7764</td>\n",
              "      <td id=\"T_c3439_row10_col2\" class=\"data row10 col2\" >0.3640</td>\n",
              "      <td id=\"T_c3439_row10_col3\" class=\"data row10 col3\" >0.6744</td>\n",
              "      <td id=\"T_c3439_row10_col4\" class=\"data row10 col4\" >0.4726</td>\n",
              "      <td id=\"T_c3439_row10_col5\" class=\"data row10 col5\" >0.3759</td>\n",
              "      <td id=\"T_c3439_row10_col6\" class=\"data row10 col6\" >0.4020</td>\n",
              "    </tr>\n",
              "    <tr>\n",
              "      <th id=\"T_c3439_level0_row11\" class=\"row_heading level0 row11\" >Std</th>\n",
              "      <td id=\"T_c3439_row11_col0\" class=\"data row11 col0\" >0.0046</td>\n",
              "      <td id=\"T_c3439_row11_col1\" class=\"data row11 col1\" >0.0132</td>\n",
              "      <td id=\"T_c3439_row11_col2\" class=\"data row11 col2\" >0.0198</td>\n",
              "      <td id=\"T_c3439_row11_col3\" class=\"data row11 col3\" >0.0188</td>\n",
              "      <td id=\"T_c3439_row11_col4\" class=\"data row11 col4\" >0.0193</td>\n",
              "      <td id=\"T_c3439_row11_col5\" class=\"data row11 col5\" >0.0201</td>\n",
              "      <td id=\"T_c3439_row11_col6\" class=\"data row11 col6\" >0.0192</td>\n",
              "    </tr>\n",
              "  </tbody>\n",
              "</table>\n"
            ]
          },
          "metadata": {}
        },
        {
          "output_type": "display_data",
          "data": {
            "text/plain": [
              "Processing:   0%|          | 0/4 [00:00<?, ?it/s]"
            ],
            "application/vnd.jupyter.widget-view+json": {
              "version_major": 2,
              "version_minor": 0,
              "model_id": "5f0e982f5cba4a6eb34568587cf57931"
            }
          },
          "metadata": {
            "application/vnd.jupyter.widget-view+json": {
              "colab": {
                "custom_widget_manager": {
                  "url": "https://ssl.gstatic.com/colaboratory-static/widgets/colab-cdn-widget-manager/b3e629b1971e1542/manager.min.js"
                }
              }
            }
          }
        },
        {
          "output_type": "display_data",
          "data": {
            "text/plain": [
              "<IPython.core.display.HTML object>"
            ],
            "text/html": []
          },
          "metadata": {}
        },
        {
          "output_type": "stream",
          "name": "stdout",
          "text": [
            "CPU times: user 7.41 s, sys: 55.8 ms, total: 7.47 s\n",
            "Wall time: 57.9 s\n"
          ]
        }
      ]
    },
    {
      "cell_type": "markdown",
      "source": [
        "**Let's tune the model:**\n"
      ],
      "metadata": {
        "id": "9JxJ3Oz2i0RJ"
      }
    },
    {
      "cell_type": "code",
      "source": [
        "%%time\n",
        "# pass the created model\n",
        "#tuned_gbc = tune_model(gbc)"
      ],
      "metadata": {
        "colab": {
          "base_uri": "https://localhost:8080/"
        },
        "id": "Vofrpkcci8VR",
        "outputId": "774ca3f0-ae48-4e23-fcc3-878fa0b99fde"
      },
      "execution_count": 19,
      "outputs": [
        {
          "output_type": "stream",
          "name": "stdout",
          "text": [
            "CPU times: user 2 µs, sys: 0 ns, total: 2 µs\n",
            "Wall time: 5.01 µs\n"
          ]
        }
      ]
    },
    {
      "cell_type": "markdown",
      "source": [
        "###**Analyze Model**\n",
        "\n",
        "The reason for the train-test-split is to utilize the visualization capabilities of [Yellowbrick](www.scikit-yb.org) by scitit."
      ],
      "metadata": {
        "id": "I8913eAljFPX"
      }
    },
    {
      "cell_type": "code",
      "source": [
        "#Create the train and test data\n",
        "X = features.copy()\n",
        "y = targets.copy()\n",
        "\n",
        "#train test split\n",
        "from sklearn.model_selection import train_test_split as tts\n",
        "\"\"\" note test size is based on the Autosplit value(Transformed test set shape\t)\"\"\"\n",
        "X_train, X_test, y_train, y_test = tts(X, y, test_size=0.3)"
      ],
      "metadata": {
        "id": "VFOi09lRytR_"
      },
      "execution_count": 49,
      "outputs": []
    },
    {
      "cell_type": "markdown",
      "source": [
        "**Plot Model Results:** AUC-ROC Curve"
      ],
      "metadata": {
        "id": "ucVZLjSryzF1"
      }
    },
    {
      "cell_type": "code",
      "source": [
        "from yellowbrick.classifier import ROCAUC\n",
        "visualizer = ROCAUC(gbc, classes=['not_defaulted', 'defaulted'])\n",
        "\n",
        "visualizer.fit(X_train, y_train)        # Fit the training data to the visualizer\n",
        "visualizer.score(X_test, y_test)        # Evaluate the model on the test data\n",
        "visualizer.show();                      # Finalize and show the figure"
      ],
      "metadata": {
        "colab": {
          "base_uri": "https://localhost:8080/",
          "height": 524
        },
        "id": "F8OoB6ZNjQrg",
        "outputId": "95d64f7b-aeb6-49d3-d065-db4c4f34ec0e"
      },
      "execution_count": 51,
      "outputs": [
        {
          "output_type": "display_data",
          "data": {
            "text/plain": [
              "<Figure size 800x550 with 1 Axes>"
            ],
            "image/png": "[encoded data removed]"
          },
          "metadata": {}
        }
      ]
    },
    {
      "cell_type": "markdown",
      "source": [
        "**Learning Curve for the Gradient Boosting Classifier**"
      ],
      "metadata": {
        "id": "xfLcRATRlBDJ"
      }
    },
    {
      "cell_type": "code",
      "source": [
        "from yellowbrick.model_selection import LearningCurve\n",
        "lc = LearningCurve(gbc, scoring='accuracy') #'f1_weighted'\n",
        "lc.fit(features, targets)\n",
        "lc.show();"
      ],
      "metadata": {
        "colab": {
          "base_uri": "https://localhost:8080/",
          "height": 524
        },
        "id": "OxON3srKlIW5",
        "outputId": "3f0d8a22-f9e6-4560-ade8-8989e32c213c"
      },
      "execution_count": 52,
      "outputs": [
        {
          "output_type": "display_data",
          "data": {
            "text/plain": [
              "<Figure size 800x550 with 1 Axes>"
            ],
            "image/png": "[encoded data removed]"
          },
          "metadata": {}
        }
      ]
    },
    {
      "cell_type": "markdown",
      "source": [
        "**Confusion Matrix**"
      ],
      "metadata": {
        "id": "nwcqeA6flNl6"
      }
    },
    {
      "cell_type": "code",
      "source": [
        "# Instantiate the visualizer with the classification model\n",
        "from yellowbrick.classifier import confusion_matrix\n",
        "confusion_matrix(\n",
        "    gbc,\n",
        "    X_train, y_train, X_test, y_test,\n",
        "    classes=['not_defaulted', 'defaulted']\n",
        ")\n",
        "plt.tight_layout();"
      ],
      "metadata": {
        "colab": {
          "base_uri": "https://localhost:8080/",
          "height": 568
        },
        "id": "oh5TWYN5u3tC",
        "outputId": "b01f4590-7b3b-417c-e3e3-4387a8ab970b"
      },
      "execution_count": 53,
      "outputs": [
        {
          "output_type": "display_data",
          "data": {
            "text/plain": [
              "<Figure size 800x550 with 1 Axes>"
            ],
            "image/png": "[encoded data removed]"
          },
          "metadata": {}
        },
        {
          "output_type": "display_data",
          "data": {
            "text/plain": [
              "<Figure size 800x550 with 0 Axes>"
            ]
          },
          "metadata": {}
        }
      ]
    },
    {
      "cell_type": "markdown",
      "source": [
        "**Classification report:**"
      ],
      "metadata": {
        "id": "tou4FK0xwh2s"
      }
    },
    {
      "cell_type": "code",
      "source": [
        "from yellowbrick.classifier import ClassificationReport\n",
        "\n",
        "# Instantiate the classification model and visualizer\n",
        "classes=['not_defaulted', 'defaulted']\n",
        "visualizer = ClassificationReport(gbc, classes=classes, support=True)\n",
        "\n",
        "visualizer.fit(X_train, y_train)        # Fit the visualizer and the model\n",
        "visualizer.score(X_test, y_test)        # Evaluate the model on the test data\n",
        "visualizer.show()                       # Finalize and show the figure"
      ],
      "metadata": {
        "colab": {
          "base_uri": "https://localhost:8080/",
          "height": 568
        },
        "id": "6Zo-XEoOwlZu",
        "outputId": "92183755-e4be-4493-8ece-244e188eda3a"
      },
      "execution_count": 48,
      "outputs": [
        {
          "output_type": "display_data",
          "data": {
            "text/plain": [
              "<Figure size 800x550 with 2 Axes>"
            ],
            "image/png": "[encoded data removed]"
          },
          "metadata": {}
        },
        {
          "output_type": "execute_result",
          "data": {
            "text/plain": [
              "<Axes: title={'center': 'GradientBoostingClassifier Classification Report'}>"
            ]
          },
          "metadata": {},
          "execution_count": 48
        }
      ]
    },
    {
      "cell_type": "markdown",
      "source": [
        "###**Use the model to make predictions:**\n",
        "<code>predict_model function from PyCaret:</code>"
      ],
      "metadata": {
        "id": "KEJSnJdZOiZP"
      }
    },
    {
      "cell_type": "code",
      "source": [
        "# import predict_model, save_model and load_model\n",
        "from pycaret.classification import predict_model, save_model, load_model"
      ],
      "metadata": {
        "id": "OPnf282JOXP4"
      },
      "execution_count": 29,
      "outputs": []
    },
    {
      "cell_type": "markdown",
      "source": [
        "**Use the predict_model function to return a dataFrame with all the values and the predicted values:**\n",
        "\n",
        "Note: This will automatically apply any feature transformations that had been done during model selection, such as categorical to numeric conversions. This returns a DataFrame with the same features as the input features DataFrame, but now with a new Label column, which has the predictions. For regression, this simply provides the numeric prediction [from the book]()."
      ],
      "metadata": {
        "id": "g8HFI8aYQ7PE"
      }
    },
    {
      "cell_type": "code",
      "source": [
        "prediction_df = predict_model(gbc, features)"
      ],
      "metadata": {
        "colab": {
          "base_uri": "https://localhost:8080/",
          "height": 17
        },
        "id": "WZEv6cnJQ-JB",
        "outputId": "339f2809-2df2-4ffe-d9e7-ae00bdcd0695"
      },
      "execution_count": 30,
      "outputs": [
        {
          "output_type": "display_data",
          "data": {
            "text/plain": [
              "<IPython.core.display.HTML object>"
            ],
            "text/html": []
          },
          "metadata": {}
        }
      ]
    },
    {
      "cell_type": "code",
      "source": [
        "# rename \"prediction_label\" to \"default_predictions\"\n",
        "prediction_df.rename(columns={\"prediction_label\":\"default_predictions\"},\n",
        "                  inplace=True,\n",
        "                  errors='raise')"
      ],
      "metadata": {
        "id": "dEHsaapBR46d"
      },
      "execution_count": 31,
      "outputs": []
    },
    {
      "cell_type": "code",
      "source": [
        "# overview of the newDataFrame\n",
        "prediction_df.head()"
      ],
      "metadata": {
        "colab": {
          "base_uri": "https://localhost:8080/",
          "height": 256
        },
        "id": "UdsebsQ6SGIq",
        "outputId": "cc1228a9-35e1-4194-8ed4-66d65b4e209e"
      },
      "execution_count": 32,
      "outputs": [
        {
          "output_type": "execute_result",
          "data": {
            "text/plain": [
              "   LIMIT_BAL  SEX  EDUCATION  MARRIAGE  AGE  PAY_1  PAY_2  PAY_3  PAY_4  \\\n",
              "0      20000    2          2         1   24      2      2     -1     -1   \n",
              "1      90000    2          2         2   34      0      0      0      0   \n",
              "2      50000    2          2         1   37      0      0      0      0   \n",
              "3      50000    1          2         1   57     -1      0     -1      0   \n",
              "4      50000    1          1         2   37      0      0      0      0   \n",
              "\n",
              "   PAY_5  ...  BILL_AMT5  BILL_AMT6  PAY_AMT1  PAY_AMT2  PAY_AMT3  PAY_AMT4  \\\n",
              "0     -2  ...        0.0        0.0       0.0     689.0       0.0       0.0   \n",
              "1      0  ...    14948.0    15549.0    1518.0    1500.0    1000.0    1000.0   \n",
              "2      0  ...    28959.0    29547.0    2000.0    2019.0    1200.0    1100.0   \n",
              "3      0  ...    19146.0    19131.0    2000.0   36681.0   10000.0    9000.0   \n",
              "4      0  ...    19619.0    20024.0    2500.0    1815.0     657.0    1000.0   \n",
              "\n",
              "   PAY_AMT5  PAY_AMT6  default_predictions  prediction_score  \n",
              "0       0.0       0.0                    1            0.7473  \n",
              "1    1000.0    5000.0                    0            0.8895  \n",
              "2    1069.0    1000.0                    0            0.8656  \n",
              "3     689.0     679.0                    0            0.9033  \n",
              "4    1000.0     800.0                    0            0.8275  \n",
              "\n",
              "[5 rows x 25 columns]"
            ],
            "text/html": [
              "\n",
              "  <div id=\"df-c8b49921-aa0c-49da-b91a-5a21602cc42b\" class=\"colab-df-container\">\n",
              "    <div>\n",
              "<style scoped>\n",
              "    .dataframe tbody tr th:only-of-type {\n",
              "        vertical-align: middle;\n",
              "    }\n",
              "\n",
              "    .dataframe tbody tr th {\n",
              "        vertical-align: top;\n",
              "    }\n",
              "\n",
              "    .dataframe thead th {\n",
              "        text-align: right;\n",
              "    }\n",
              "</style>\n",
              "<table border=\"1\" class=\"dataframe\">\n",
              "  <thead>\n",
              "    <tr style=\"text-align: right;\">\n",
              "      <th></th>\n",
              "      <th>LIMIT_BAL</th>\n",
              "      <th>SEX</th>\n",
              "      <th>EDUCATION</th>\n",
              "      <th>MARRIAGE</th>\n",
              "      <th>AGE</th>\n",
              "      <th>PAY_1</th>\n",
              "      <th>PAY_2</th>\n",
              "      <th>PAY_3</th>\n",
              "      <th>PAY_4</th>\n",
              "      <th>PAY_5</th>\n",
              "      <th>...</th>\n",
              "      <th>BILL_AMT5</th>\n",
              "      <th>BILL_AMT6</th>\n",
              "      <th>PAY_AMT1</th>\n",
              "      <th>PAY_AMT2</th>\n",
              "      <th>PAY_AMT3</th>\n",
              "      <th>PAY_AMT4</th>\n",
              "      <th>PAY_AMT5</th>\n",
              "      <th>PAY_AMT6</th>\n",
              "      <th>default_predictions</th>\n",
              "      <th>prediction_score</th>\n",
              "    </tr>\n",
              "  </thead>\n",
              "  <tbody>\n",
              "    <tr>\n",
              "      <th>0</th>\n",
              "      <td>20000</td>\n",
              "      <td>2</td>\n",
              "      <td>2</td>\n",
              "      <td>1</td>\n",
              "      <td>24</td>\n",
              "      <td>2</td>\n",
              "      <td>2</td>\n",
              "      <td>-1</td>\n",
              "      <td>-1</td>\n",
              "      <td>-2</td>\n",
              "      <td>...</td>\n",
              "      <td>0.0</td>\n",
              "      <td>0.0</td>\n",
              "      <td>0.0</td>\n",
              "      <td>689.0</td>\n",
              "      <td>0.0</td>\n",
              "      <td>0.0</td>\n",
              "      <td>0.0</td>\n",
              "      <td>0.0</td>\n",
              "      <td>1</td>\n",
              "      <td>0.7473</td>\n",
              "    </tr>\n",
              "    <tr>\n",
              "      <th>1</th>\n",
              "      <td>90000</td>\n",
              "      <td>2</td>\n",
              "      <td>2</td>\n",
              "      <td>2</td>\n",
              "      <td>34</td>\n",
              "      <td>0</td>\n",
              "      <td>0</td>\n",
              "      <td>0</td>\n",
              "      <td>0</td>\n",
              "      <td>0</td>\n",
              "      <td>...</td>\n",
              "      <td>14948.0</td>\n",
              "      <td>15549.0</td>\n",
              "      <td>1518.0</td>\n",
              "      <td>1500.0</td>\n",
              "      <td>1000.0</td>\n",
              "      <td>1000.0</td>\n",
              "      <td>1000.0</td>\n",
              "      <td>5000.0</td>\n",
              "      <td>0</td>\n",
              "      <td>0.8895</td>\n",
              "    </tr>\n",
              "    <tr>\n",
              "      <th>2</th>\n",
              "      <td>50000</td>\n",
              "      <td>2</td>\n",
              "      <td>2</td>\n",
              "      <td>1</td>\n",
              "      <td>37</td>\n",
              "      <td>0</td>\n",
              "      <td>0</td>\n",
              "      <td>0</td>\n",
              "      <td>0</td>\n",
              "      <td>0</td>\n",
              "      <td>...</td>\n",
              "      <td>28959.0</td>\n",
              "      <td>29547.0</td>\n",
              "      <td>2000.0</td>\n",
              "      <td>2019.0</td>\n",
              "      <td>1200.0</td>\n",
              "      <td>1100.0</td>\n",
              "      <td>1069.0</td>\n",
              "      <td>1000.0</td>\n",
              "      <td>0</td>\n",
              "      <td>0.8656</td>\n",
              "    </tr>\n",
              "    <tr>\n",
              "      <th>3</th>\n",
              "      <td>50000</td>\n",
              "      <td>1</td>\n",
              "      <td>2</td>\n",
              "      <td>1</td>\n",
              "      <td>57</td>\n",
              "      <td>-1</td>\n",
              "      <td>0</td>\n",
              "      <td>-1</td>\n",
              "      <td>0</td>\n",
              "      <td>0</td>\n",
              "      <td>...</td>\n",
              "      <td>19146.0</td>\n",
              "      <td>19131.0</td>\n",
              "      <td>2000.0</td>\n",
              "      <td>36681.0</td>\n",
              "      <td>10000.0</td>\n",
              "      <td>9000.0</td>\n",
              "      <td>689.0</td>\n",
              "      <td>679.0</td>\n",
              "      <td>0</td>\n",
              "      <td>0.9033</td>\n",
              "    </tr>\n",
              "    <tr>\n",
              "      <th>4</th>\n",
              "      <td>50000</td>\n",
              "      <td>1</td>\n",
              "      <td>1</td>\n",
              "      <td>2</td>\n",
              "      <td>37</td>\n",
              "      <td>0</td>\n",
              "      <td>0</td>\n",
              "      <td>0</td>\n",
              "      <td>0</td>\n",
              "      <td>0</td>\n",
              "      <td>...</td>\n",
              "      <td>19619.0</td>\n",
              "      <td>20024.0</td>\n",
              "      <td>2500.0</td>\n",
              "      <td>1815.0</td>\n",
              "      <td>657.0</td>\n",
              "      <td>1000.0</td>\n",
              "      <td>1000.0</td>\n",
              "      <td>800.0</td>\n",
              "      <td>0</td>\n",
              "      <td>0.8275</td>\n",
              "    </tr>\n",
              "  </tbody>\n",
              "</table>\n",
              "<p>5 rows × 25 columns</p>\n",
              "</div>\n",
              "    <div class=\"colab-df-buttons\">\n",
              "\n",
              "  <div class=\"colab-df-container\">\n",
              "    <button class=\"colab-df-convert\" onclick=\"convertToInteractive('df-c8b49921-aa0c-49da-b91a-5a21602cc42b')\"\n",
              "            title=\"Convert this dataframe to an interactive table.\"\n",
              "            style=\"display:none;\">\n",
              "\n",
              "  <svg xmlns=\"http://www.w3.org/2000/svg\" height=\"24px\" viewBox=\"0 -960 960 960\">\n",
              "    <path d=\"M120-120v-720h720v720H120Zm60-500h600v-160H180v160Zm220 220h160v-160H400v160Zm0 220h160v-160H400v160ZM180-400h160v-160H180v160Zm440 0h160v-160H620v160ZM180-180h160v-160H180v160Zm440 0h160v-160H620v160Z\"/>\n",
              "  </svg>\n",
              "    </button>\n",
              "\n",
              "  <style>\n",
              "    .colab-df-container {\n",
              "      display:flex;\n",
              "      gap: 12px;\n",
              "    }\n",
              "\n",
              "    .colab-df-convert {\n",
              "      background-color: #E8F0FE;\n",
              "      border: none;\n",
              "      border-radius: 50%;\n",
              "      cursor: pointer;\n",
              "      display: none;\n",
              "      fill: #1967D2;\n",
              "      height: 32px;\n",
              "      padding: 0 0 0 0;\n",
              "      width: 32px;\n",
              "    }\n",
              "\n",
              "    .colab-df-convert:hover {\n",
              "      background-color: #E2EBFA;\n",
              "      box-shadow: 0px 1px 2px rgba(60, 64, 67, 0.3), 0px 1px 3px 1px rgba(60, 64, 67, 0.15);\n",
              "      fill: #174EA6;\n",
              "    }\n",
              "\n",
              "    .colab-df-buttons div {\n",
              "      margin-bottom: 4px;\n",
              "    }\n",
              "\n",
              "    [theme=dark] .colab-df-convert {\n",
              "      background-color: #3B4455;\n",
              "      fill: #D2E3FC;\n",
              "    }\n",
              "\n",
              "    [theme=dark] .colab-df-convert:hover {\n",
              "      background-color: #434B5C;\n",
              "      box-shadow: 0px 1px 3px 1px rgba(0, 0, 0, 0.15);\n",
              "      filter: drop-shadow(0px 1px 2px rgba(0, 0, 0, 0.3));\n",
              "      fill: #FFFFFF;\n",
              "    }\n",
              "  </style>\n",
              "\n",
              "    <script>\n",
              "      const buttonEl =\n",
              "        document.querySelector('#df-c8b49921-aa0c-49da-b91a-5a21602cc42b button.colab-df-convert');\n",
              "      buttonEl.style.display =\n",
              "        google.colab.kernel.accessAllowed ? 'block' : 'none';\n",
              "\n",
              "      async function convertToInteractive(key) {\n",
              "        const element = document.querySelector('#df-c8b49921-aa0c-49da-b91a-5a21602cc42b');\n",
              "        const dataTable =\n",
              "          await google.colab.kernel.invokeFunction('convertToInteractive',\n",
              "                                                    [key], {});\n",
              "        if (!dataTable) return;\n",
              "\n",
              "        const docLinkHtml = 'Like what you see? Visit the ' +\n",
              "          '<a target=\"_blank\" href=https://colab.research.google.com/notebooks/data_table.ipynb>data table notebook</a>'\n",
              "          + ' to learn more about interactive tables.';\n",
              "        element.innerHTML = '';\n",
              "        dataTable['output_type'] = 'display_data';\n",
              "        await google.colab.output.renderOutput(dataTable, element);\n",
              "        const docLink = document.createElement('div');\n",
              "        docLink.innerHTML = docLinkHtml;\n",
              "        element.appendChild(docLink);\n",
              "      }\n",
              "    </script>\n",
              "  </div>\n",
              "\n",
              "\n",
              "<div id=\"df-fe0ad1c0-1d63-47c0-92dc-daab8dc021c8\">\n",
              "  <button class=\"colab-df-quickchart\" onclick=\"quickchart('df-fe0ad1c0-1d63-47c0-92dc-daab8dc021c8')\"\n",
              "            title=\"Suggest charts\"\n",
              "            style=\"display:none;\">\n",
              "\n",
              "<svg xmlns=\"http://www.w3.org/2000/svg\" height=\"24px\"viewBox=\"0 0 24 24\"\n",
              "     width=\"24px\">\n",
              "    <g>\n",
              "        <path d=\"M19 3H5c-1.1 0-2 .9-2 2v14c0 1.1.9 2 2 2h14c1.1 0 2-.9 2-2V5c0-1.1-.9-2-2-2zM9 17H7v-7h2v7zm4 0h-2V7h2v10zm4 0h-2v-4h2v4z\"/>\n",
              "    </g>\n",
              "</svg>\n",
              "  </button>\n",
              "\n",
              "<style>\n",
              "  .colab-df-quickchart {\n",
              "      --bg-color: #E8F0FE;\n",
              "      --fill-color: #1967D2;\n",
              "      --hover-bg-color: #E2EBFA;\n",
              "      --hover-fill-color: #174EA6;\n",
              "      --disabled-fill-color: #AAA;\n",
              "      --disabled-bg-color: #DDD;\n",
              "  }\n",
              "\n",
              "  [theme=dark] .colab-df-quickchart {\n",
              "      --bg-color: #3B4455;\n",
              "      --fill-color: #D2E3FC;\n",
              "      --hover-bg-color: #434B5C;\n",
              "      --hover-fill-color: #FFFFFF;\n",
              "      --disabled-bg-color: #3B4455;\n",
              "      --disabled-fill-color: #666;\n",
              "  }\n",
              "\n",
              "  .colab-df-quickchart {\n",
              "    background-color: var(--bg-color);\n",
              "    border: none;\n",
              "    border-radius: 50%;\n",
              "    cursor: pointer;\n",
              "    display: none;\n",
              "    fill: var(--fill-color);\n",
              "    height: 32px;\n",
              "    padding: 0;\n",
              "    width: 32px;\n",
              "  }\n",
              "\n",
              "  .colab-df-quickchart:hover {\n",
              "    background-color: var(--hover-bg-color);\n",
              "    box-shadow: 0 1px 2px rgba(60, 64, 67, 0.3), 0 1px 3px 1px rgba(60, 64, 67, 0.15);\n",
              "    fill: var(--button-hover-fill-color);\n",
              "  }\n",
              "\n",
              "  .colab-df-quickchart-complete:disabled,\n",
              "  .colab-df-quickchart-complete:disabled:hover {\n",
              "    background-color: var(--disabled-bg-color);\n",
              "    fill: var(--disabled-fill-color);\n",
              "    box-shadow: none;\n",
              "  }\n",
              "\n",
              "  .colab-df-spinner {\n",
              "    border: 2px solid var(--fill-color);\n",
              "    border-color: transparent;\n",
              "    border-bottom-color: var(--fill-color);\n",
              "    animation:\n",
              "      spin 1s steps(1) infinite;\n",
              "  }\n",
              "\n",
              "  @keyframes spin {\n",
              "    0% {\n",
              "      border-color: transparent;\n",
              "      border-bottom-color: var(--fill-color);\n",
              "      border-left-color: var(--fill-color);\n",
              "    }\n",
              "    20% {\n",
              "      border-color: transparent;\n",
              "      border-left-color: var(--fill-color);\n",
              "      border-top-color: var(--fill-color);\n",
              "    }\n",
              "    30% {\n",
              "      border-color: transparent;\n",
              "      border-left-color: var(--fill-color);\n",
              "      border-top-color: var(--fill-color);\n",
              "      border-right-color: var(--fill-color);\n",
              "    }\n",
              "    40% {\n",
              "      border-color: transparent;\n",
              "      border-right-color: var(--fill-color);\n",
              "      border-top-color: var(--fill-color);\n",
              "    }\n",
              "    60% {\n",
              "      border-color: transparent;\n",
              "      border-right-color: var(--fill-color);\n",
              "    }\n",
              "    80% {\n",
              "      border-color: transparent;\n",
              "      border-right-color: var(--fill-color);\n",
              "      border-bottom-color: var(--fill-color);\n",
              "    }\n",
              "    90% {\n",
              "      border-color: transparent;\n",
              "      border-bottom-color: var(--fill-color);\n",
              "    }\n",
              "  }\n",
              "</style>\n",
              "\n",
              "  <script>\n",
              "    async function quickchart(key) {\n",
              "      const quickchartButtonEl =\n",
              "        document.querySelector('#' + key + ' button');\n",
              "      quickchartButtonEl.disabled = true;  // To prevent multiple clicks.\n",
              "      quickchartButtonEl.classList.add('colab-df-spinner');\n",
              "      try {\n",
              "        const charts = await google.colab.kernel.invokeFunction(\n",
              "            'suggestCharts', [key], {});\n",
              "      } catch (error) {\n",
              "        console.error('Error during call to suggestCharts:', error);\n",
              "      }\n",
              "      quickchartButtonEl.classList.remove('colab-df-spinner');\n",
              "      quickchartButtonEl.classList.add('colab-df-quickchart-complete');\n",
              "    }\n",
              "    (() => {\n",
              "      let quickchartButtonEl =\n",
              "        document.querySelector('#df-fe0ad1c0-1d63-47c0-92dc-daab8dc021c8 button');\n",
              "      quickchartButtonEl.style.display =\n",
              "        google.colab.kernel.accessAllowed ? 'block' : 'none';\n",
              "    })();\n",
              "  </script>\n",
              "</div>\n",
              "    </div>\n",
              "  </div>\n"
            ]
          },
          "metadata": {},
          "execution_count": 32
        }
      ]
    },
    {
      "cell_type": "markdown",
      "source": [
        "**Once we have our optimized model, we can save it to a pickle file like so:**"
      ],
      "metadata": {
        "id": "vjtE665bScHE"
      }
    },
    {
      "cell_type": "code",
      "source": [
        "save_model(best, 'Gradient_Boosting_Classifier')"
      ],
      "metadata": {
        "colab": {
          "base_uri": "https://localhost:8080/"
        },
        "id": "P3Z3IjfFS_Pw",
        "outputId": "67718aeb-ce86-4abf-c205-0e6352aa5b7e"
      },
      "execution_count": 33,
      "outputs": [
        {
          "output_type": "stream",
          "name": "stdout",
          "text": [
            "Transformation Pipeline and Model Successfully Saved\n"
          ]
        },
        {
          "output_type": "execute_result",
          "data": {
            "text/plain": [
              "(Pipeline(memory=Memory(location=None),\n",
              "          steps=[('numerical_imputer',\n",
              "                  TransformerWrapper(exclude=None,\n",
              "                                     include=['LIMIT_BAL', 'SEX', 'EDUCATION',\n",
              "                                              'MARRIAGE', 'AGE', 'PAY_1',\n",
              "                                              'PAY_2', 'PAY_3', 'PAY_4', 'PAY_5',\n",
              "                                              'PAY_6', 'BILL_AMT1', 'BILL_AMT2',\n",
              "                                              'BILL_AMT3', 'BILL_AMT4',\n",
              "                                              'BILL_AMT5', 'BILL_AMT6',\n",
              "                                              'PAY_AMT1', 'PAY_AMT2', 'PAY_AMT3',\n",
              "                                              'PAY_AMT4', 'PAY_AMT5',\n",
              "                                              'PAY_AMT6'],\n",
              "                                     transform...\n",
              "                                             criterion='friedman_mse', init=None,\n",
              "                                             learning_rate=0.1, loss='log_loss',\n",
              "                                             max_depth=3, max_features=None,\n",
              "                                             max_leaf_nodes=None,\n",
              "                                             min_impurity_decrease=0.0,\n",
              "                                             min_samples_leaf=1,\n",
              "                                             min_samples_split=2,\n",
              "                                             min_weight_fraction_leaf=0.0,\n",
              "                                             n_estimators=100,\n",
              "                                             n_iter_no_change=None,\n",
              "                                             random_state=3556, subsample=1.0,\n",
              "                                             tol=0.0001, validation_fraction=0.1,\n",
              "                                             verbose=0, warm_start=False))],\n",
              "          verbose=False),\n",
              " 'Gradient_Boosting_Classifier.pkl')"
            ]
          },
          "metadata": {},
          "execution_count": 33
        }
      ]
    },
    {
      "cell_type": "markdown",
      "source": [
        "**To load the model:**"
      ],
      "metadata": {
        "id": "QiZHVT69TPUV"
      }
    },
    {
      "cell_type": "code",
      "source": [
        "gbc_model = load_model('Gradient_Boosting_Classifier')"
      ],
      "metadata": {
        "colab": {
          "base_uri": "https://localhost:8080/"
        },
        "id": "2m0x9fbeTR_j",
        "outputId": "7cbdbaa8-ab57-4cac-c496-d92d496c1ffd"
      },
      "execution_count": 34,
      "outputs": [
        {
          "output_type": "stream",
          "name": "stdout",
          "text": [
            "Transformation Pipeline and Model Successfully Loaded\n"
          ]
        }
      ]
    },
    {
      "cell_type": "markdown",
      "source": [
        "####**Further reading:** [Yellowbrick](https://www.scikit-yb.org/en/latest/api/classifier/classification_report.html), [Pycaret](https://pycaret.gitbook.io/docs/)\n"
      ],
      "metadata": {
        "id": "pDiyUIKHxL6J"
      }
    }
  ]
}